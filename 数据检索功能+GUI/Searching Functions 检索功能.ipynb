{
 "cells": [
  {
   "cell_type": "code",
   "execution_count": 2,
   "id": "35a1a0c3",
   "metadata": {},
   "outputs": [],
   "source": [
    "import pandas as pd\n"
   ]
  },
  {
   "cell_type": "code",
   "execution_count": null,
   "id": "361d6f14",
   "metadata": {},
   "outputs": [],
   "source": []
  },
  {
   "cell_type": "code",
   "execution_count": 3,
   "id": "0883439a",
   "metadata": {},
   "outputs": [],
   "source": [
    "## 读取表格数据\n",
    "## Read all sheets from the Excel file\n",
    "xlsx = pd.read_excel('Carbon Emission Factor Database.xlsx', sheet_name=None)\n",
    "\n",
    "## Access each DataFrame using the sheet name\n",
    "df1 = xlsx['能源(Energy Sources)']\n",
    "df2 = xlsx['建筑材料(Building Materials)']\n",
    "df3 = xlsx['建材运输(Material Transportation)']\n",
    "df4 = xlsx['碳汇(Carbon Sink)']\n",
    "\n",
    "## print(df1.head())\n",
    "\n",
    "# List of DataFrames\n",
    "dfs = [df1, df2, df3, df4]"
   ]
  },
  {
   "cell_type": "code",
   "execution_count": 4,
   "id": "b6c6fd41",
   "metadata": {
    "scrolled": true
   },
   "outputs": [],
   "source": [
    "## df1['材料']\n",
    "## filtered_df1 = df1[df1['材料'].str.contains(material_name, case=False, regex=False)]\n",
    "## print(filtered_df1)"
   ]
  },
  {
   "cell_type": "code",
   "execution_count": 5,
   "id": "5eebb6a4",
   "metadata": {},
   "outputs": [],
   "source": [
    "def classify(i):\n",
    "    if i == 1:\n",
    "        return \"能源(Energy Sources)\"\n",
    "    elif i == 2:\n",
    "        return \"建筑材料(Building Materials)\"\n",
    "    elif i == 3:\n",
    "        return \"建材运输(Material Transportation)\"\n",
    "    elif i == 4:\n",
    "        return \"碳汇(Carbon Sink)\"\n",
    "    else:\n",
    "        return \"未找到该种类材料名称\"\n",
    "    \n",
    "def display(i):\n",
    "    if i == 1:\n",
    "        return 10\n",
    "    elif i == 2:\n",
    "        return 6\n",
    "    elif i == 3 or 4:\n",
    "        return 4\n",
    "    "
   ]
  },
  {
   "cell_type": "code",
   "execution_count": 6,
   "id": "efa2338c",
   "metadata": {
    "scrolled": false
   },
   "outputs": [
    {
     "name": "stdout",
     "output_type": "stream",
     "text": [
      "----------------------------------------------------------------------------------------------------\n",
      "\n",
      "请输入想查询的材料名称：混凝土\n",
      "\n",
      "----------------------------------------------------------------------------------------------------\n",
      "\n",
      "'混凝土' 隶属于建筑材料(Building Materials)类型\n",
      "\n",
      "----------------------------------------------------------------------------------------------------\n",
      "\n",
      "为您搜查到 23 种结果：\n",
      "\n",
      "                                                                 材料  碳排放因子\n",
      "                                               C30混凝土(C30 Concrete) 678.50\n",
      "                                               C50混凝土(C50 Concrete) 924.00\n",
      "                                                   混凝土C10(Concrete) 172.00\n",
      "                                                   混凝土C15(Concrete) 178.00\n",
      "                                                   混凝土C20(Concrete) 265.00\n",
      "                                                   混凝土C25(Concrete) 293.00\n",
      "                                                   混凝土C30(Concrete) 316.00\n",
      "                                                   混凝土C35(Concrete) 363.00\n",
      "                                                   混凝土C40(Concrete) 410.00\n",
      "                                                   混凝土C45(Concrete) 441.00\n",
      "                                                   混凝土C50(Concrete) 464.00\n",
      "                            超流态混凝土C25(Self-Compacting Concrete C25) 320.00\n",
      "                            超流态混凝土C30(Self-Compacting Concrete C30) 333.00\n",
      "                                轻质混凝土\\n（lightweight concrete block）   0.47\n",
      "                             混凝土砖(240mmX115mmX90mm)(Concrete Brick) 336.00\n",
      "                                               混凝土砖(Concrete Brick) 336.00\n",
      "                             混凝土小型空心砌块(Concrete Small Hollow Block) 180.00\n",
      "                         加气混凝土砌块(Autoclaved Aerated Concrete Block) 270.00\n",
      "                                            混凝土砌块\\n（Concrete block）   0.10\n",
      "                    蒸压砂加气混凝土砌块\\n（autoclaved aerated concrete block） 297.80\n",
      "生物污泥陶粒加气混凝土砌块\\n（Biological sludge ceramsite aerated concrete block） 434.28\n",
      "                                          加气混凝土\\n（aerated concrete） 166.80\n",
      "                       再生混凝土路面砖\\n（Recycled concrete pavement brick） 317.53\n",
      "----------------------------------------------------------------------------------------------------\n",
      "\n",
      "是否想继续查找材料（是/否）：否\n",
      "\n",
      "----------------------------------------------------------------------------------------------------\n",
      "\n",
      "再见！\n",
      "\n",
      "----------------------------------------------------------------------------------------------------\n",
      "\n"
     ]
    }
   ],
   "source": [
    "flag = True\n",
    "\n",
    "while flag:\n",
    "    print('-' * 100)\n",
    "    print()\n",
    "\n",
    "    material_name = input(\"请输入想查询的材料名称：\")\n",
    "\n",
    "    print()\n",
    "    print('-' * 100)\n",
    "    print()\n",
    "\n",
    "    # Initialize a list to store the DataFrame indices where the material name is found\n",
    "    matching_dfs = []\n",
    "    index = 0\n",
    "\n",
    "    # Iterate over each DataFrame\n",
    "    for i, df in enumerate(dfs):\n",
    "        # Filter the DataFrame based on the material name\n",
    "        filtered_df = df[df['材料'].str.contains(material_name, case=False, regex=False, na=False)]\n",
    "\n",
    "        # Check if the filtered DataFrame is not empty\n",
    "        if not filtered_df.empty:\n",
    "\n",
    "            # Store the index of the DataFrame where the material name is found\n",
    "            matching_dfs.append(i)\n",
    "\n",
    "            classification = classify(i+1)\n",
    "            ## print(classify(i+1))\n",
    "\n",
    "            print(f\"'{material_name}' 隶属于\" + classification + \"类型\")\n",
    "            print()\n",
    "            print('-' * 100)\n",
    "\n",
    "            # Display the filtered DataFrame for the current iteration\n",
    "            num = len(filtered_df)\n",
    "            print()\n",
    "            print(\"为您搜查到 \" + str(num) + \" 种结果：\")\n",
    "            print()\n",
    "            num = display(i+1)\n",
    "            print(filtered_df.iloc[:, :num].dropna(axis=1).to_string(index=False))\n",
    "\n",
    "            # Convert filtered DataFrame to a list of lists\n",
    "            data = filtered_df.values.tolist()\n",
    "            ## print(data[0])\n",
    "            \n",
    "            break\n",
    "\n",
    "\n",
    "    # Check if the material name is found in any DataFrame\n",
    "    if len(matching_dfs) <= 0:\n",
    "        print(f\"未能查询到 '{material_name}' 该材料名称\")\n",
    "      \n",
    "    print('-' * 100)\n",
    "    print()\n",
    "    cont = input(\"是否想继续查找材料（是/否）：\")\n",
    "\n",
    "    if cont == '否':\n",
    "        flag = False\n",
    "        print()\n",
    "        print('-' * 100)\n",
    "        print()\n",
    "        print(\"再见！\")\n",
    "        print()\n",
    "        print('-' * 100)\n",
    "\n",
    "    print()\n",
    "    "
   ]
  },
  {
   "cell_type": "code",
   "execution_count": null,
   "id": "9401b7d7",
   "metadata": {},
   "outputs": [],
   "source": []
  },
  {
   "cell_type": "code",
   "execution_count": null,
   "id": "60ef73fc",
   "metadata": {},
   "outputs": [],
   "source": []
  },
  {
   "cell_type": "code",
   "execution_count": null,
   "id": "f07be713",
   "metadata": {},
   "outputs": [],
   "source": []
  },
  {
   "cell_type": "code",
   "execution_count": null,
   "id": "9adc4439",
   "metadata": {},
   "outputs": [],
   "source": []
  },
  {
   "cell_type": "code",
   "execution_count": null,
   "id": "2a4033ae",
   "metadata": {},
   "outputs": [],
   "source": []
  },
  {
   "cell_type": "code",
   "execution_count": null,
   "id": "3bf58dab",
   "metadata": {},
   "outputs": [],
   "source": []
  },
  {
   "cell_type": "code",
   "execution_count": null,
   "id": "f42d8179",
   "metadata": {},
   "outputs": [],
   "source": []
  },
  {
   "cell_type": "code",
   "execution_count": null,
   "id": "5c49782d",
   "metadata": {},
   "outputs": [],
   "source": []
  }
 ],
 "metadata": {
  "kernelspec": {
   "display_name": "Python 3 (ipykernel)",
   "language": "python",
   "name": "python3"
  },
  "language_info": {
   "codemirror_mode": {
    "name": "ipython",
    "version": 3
   },
   "file_extension": ".py",
   "mimetype": "text/x-python",
   "name": "python",
   "nbconvert_exporter": "python",
   "pygments_lexer": "ipython3",
   "version": "3.10.9"
  }
 },
 "nbformat": 4,
 "nbformat_minor": 5
}
