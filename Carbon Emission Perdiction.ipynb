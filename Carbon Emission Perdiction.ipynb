{
 "cells": [
  {
   "cell_type": "code",
   "execution_count": null,
   "id": "7d568ee4",
   "metadata": {},
   "outputs": [],
   "source": []
  },
  {
   "cell_type": "code",
   "execution_count": null,
   "id": "09a9c6d7",
   "metadata": {},
   "outputs": [],
   "source": []
  },
  {
   "cell_type": "code",
   "execution_count": null,
   "id": "87c405a0",
   "metadata": {},
   "outputs": [],
   "source": []
  },
  {
   "cell_type": "code",
   "execution_count": null,
   "id": "18e2f49c",
   "metadata": {
    "scrolled": true
   },
   "outputs": [],
   "source": []
  },
  {
   "cell_type": "code",
   "execution_count": 133,
   "id": "85978407",
   "metadata": {},
   "outputs": [],
   "source": [
    "import pandas as pd\n",
    "\n",
    "import os\n",
    "import requests\n",
    "import pymatgen.core as mg\n",
    "import matplotlib.pyplot as plt\n",
    "\n",
    "from sklearn.model_selection import train_test_split\n",
    "from sklearn.linear_model import LinearRegression\n",
    "from sklearn.metrics import mean_squared_error\n",
    "\n",
    "from pymatgen.ext.matproj import MPRester\n",
    "## from mp_api.client import MPRester"
   ]
  },
  {
   "cell_type": "code",
   "execution_count": 118,
   "id": "bca4f428",
   "metadata": {},
   "outputs": [
    {
     "name": "stdout",
     "output_type": "stream",
     "text": [
      "Silicon has atomic mass of: 28.0855 amu\n"
     ]
    }
   ],
   "source": [
    "## Personal API KEY\n",
    "api_key = 'dL6DZh5bMiX0gsWT'\n",
    "\n",
    "si = mg.Element(\"Si\")\n",
    "print(\"Silicon has atomic mass of:\", si.atomic_mass)"
   ]
  },
  {
   "cell_type": "code",
   "execution_count": 119,
   "id": "97fcc1ed",
   "metadata": {
    "scrolled": false
   },
   "outputs": [
    {
     "name": "stdout",
     "output_type": "stream",
     "text": [
      "{\"response\": [{\"energy\": -48.94792879, \"energy_per_atom\": -6.9925612557142856, \"volume\": 71.72632689757516, \"formation_energy_per_atom\": -0.5622254049999995, \"nsites\": 7, \"unit_cell_formula\": {\"La\": 1.0, \"B\": 6.0}, \"pretty_formula\": \"LaB6\", \"is_hubbard\": false, \"elements\": [\"La\", \"B\"], \"nelements\": 2, \"e_above_hull\": 0, \"hubbards\": {}, \"is_compatible\": true, \"spacegroup\": {\"symprec\": 0.1, \"source\": \"spglib\", \"symbol\": \"Pm-3m\", \"number\": 221, \"point_group\": \"m-3m\", \"crystal_system\": \"cubic\", \"hall\": \"-P 4 2 3\"}, \"task_ids\": [\"mp-1000438\", \"mp-1006911\", \"mp-1011642\", \"mp-2680\", \"mp-1077871\", \"mp-1440725\", \"mp-1596563\", \"mp-1595462\", \"mp-1686762\"], \"band_gap\": 0.0, \"density\": 4.71752146288909, \"icsd_id\": null, \"icsd_ids\": [194636, 152466, 614585, 614606, 602780, 614603, 614594, 614614, 614590, 614595, 614610, 165970, 40947, 614608, 614592, 614601, 614588, 659491, 614615, 614612], \"cif\": \"# generated using pymatgen\\ndata_LaB6\\n_symmetry_space_group_name_H-M   'P 1'\\n_cell_length_a   4.15489000\\n_cell_length_b   4.15489000\\n_cell_length_c   4.15489000\\n_cell_angle_alpha   90.00000000\\n_cell_angle_beta   90.00000000\\n_cell_angle_gamma   90.00000000\\n_symmetry_Int_Tables_number   1\\n_chemical_formula_structural   LaB6\\n_chemical_formula_sum   'La1 B6'\\n_cell_volume   71.72632690\\n_cell_formula_units_Z   1\\nloop_\\n _symmetry_equiv_pos_site_id\\n _symmetry_equiv_pos_as_xyz\\n  1  'x, y, z'\\nloop_\\n _atom_site_type_symbol\\n _atom_site_label\\n _atom_site_symmetry_multiplicity\\n _atom_site_fract_x\\n _atom_site_fract_y\\n _atom_site_fract_z\\n _atom_site_occupancy\\n  La  La0  1  0.00000000  0.00000000  0.00000000  1\\n  B  B1  1  0.80041500  0.50000000  0.50000000  1\\n  B  B2  1  0.19958500  0.50000000  0.50000000  1\\n  B  B3  1  0.50000000  0.50000000  0.80041500  1\\n  B  B4  1  0.50000000  0.50000000  0.19958500  1\\n  B  B5  1  0.50000000  0.19958500  0.50000000  1\\n  B  B6  1  0.50000000  0.80041500  0.50000000  1\\n\", \"total_magnetization\": 0.0007286, \"material_id\": \"mp-2680\", \"oxide_type\": \"None\", \"tags\": [\"Lanhanum octahedro-hexaboride\", \"Lanthanum hexaboride\", \"Lanthanum boride (1/6)\", \"Lanthanum octahedro-hexaboride\"], \"elasticity\": {\"G_Reuss\": 117.0, \"G_VRH\": 130.0, \"G_Voigt\": 143.0, \"G_Voigt_Reuss_Hill\": 130.0, \"K_Reuss\": 174.0, \"K_VRH\": 174.0, \"K_Voigt\": 174.0, \"K_Voigt_Reuss_Hill\": 174.0, \"elastic_anisotropy\": 1.1, \"elastic_tensor\": [[473.0, 24.0, 24.0, 0.0, 0.0, 0.0], [24.0, 473.0, 24.0, 0.0, 0.0, 0.0], [24.0, 24.0, 473.0, 0.0, 0.0, 0.0], [0.0, 0.0, 0.0, 89.0, 0.0, 0.0], [0.0, 0.0, 0.0, 0.0, 89.0, 0.0], [0.0, 0.0, 0.0, 0.0, 0.0, 89.0]], \"homogeneous_poisson\": 0.2, \"poisson_ratio\": 0.2, \"universal_anisotropy\": 1.1, \"elastic_tensor_original\": [[473.07605520320783, 24.20833995274068, 24.20833995274068, 0.0, 0.0, 0.0], [24.33087325516945, 473.2050395896117, 24.33087325516945, 0.0, 0.0, 0.0], [24.20780703602939, 24.20780703602939, 473.0753381803691, 0.0, 0.0, 0.0], [-0.0025398941226581167, 1.9465732977357927e-06, -0.00023406705148199615, 89.00055205298544, 0.0, 0.0], [0.00023430375059919198, 0.0003406539862257426, 0.0002107137478070126, 0.0, 88.99810634561159, 0.0], [0.0006773776839176731, 0.0008217978341671053, 0.0006836276102592942, 0.0, 0.0, 88.99842157309028]], \"compliance_tensor\": [[2.1, -0.1, -0.1, 0.0, 0.0, 0.0], [-0.1, 2.1, -0.1, 0.0, -0.0, 0.0], [-0.1, -0.1, 2.1, 0.0, -0.0, -0.0], [0.0, 0.0, 0.0, 11.2, 0.0, 0.0], [0.0, -0.0, -0.0, 0.0, 11.2, 0.0], [0.0, 0.0, -0.0, 0.0, 0.0, 11.2]], \"warnings\": [\"Contains a rare earth element\"], \"nsites\": 7}, \"piezo\": null, \"diel\": null, \"deprecated\": false, \"full_formula\": \"La1B6\"}], \"valid_response\": true, \"created_at\": \"2023-06-14T20:43:53.826122\", \"version\": {\"db\": \"2020_09_08\", \"pymatgen\": \"2022.0.8\", \"rest\": \"2.0\"}, \"copyright\": \"Materials Project, 2023\"}\n"
     ]
    }
   ],
   "source": [
    "## requests\n",
    "response = requests.get('https://legacy.materialsproject.org/rest/v2/materials/mp-2680/vasp?',\n",
    "                       {'API_KEY': api_key})\n",
    "\n",
    "print(response.text)"
   ]
  },
  {
   "cell_type": "code",
   "execution_count": 120,
   "id": "f171352c",
   "metadata": {},
   "outputs": [
    {
     "name": "stdout",
     "output_type": "stream",
     "text": [
      "Exact Fe2O3 formula matches are:  ['mp-1244911', 'mp-1456', 'mp-1245078', 'mp-1205415', 'mp-1068212', 'mp-715572', 'mp-776606', 'mp-1245084', 'mp-510080', 'mp-19770', 'mp-557546', 'mp-715276', 'mp-716814', 'mp-542896', 'mp-1078361', 'mp-1178392', 'mp-685153', 'mp-1245277', 'mp-1245019', 'mp-565814', 'mp-705547', 'mp-1244869', 'mp-1245154', 'mvc-12005']\n",
      "All compounds in the Ta-C system are:  ['mp-611448', 'mp-1097832', 'mp-1205283', 'mp-24', 'mp-1078845', 'mp-1244913', 'mp-1008374', 'mp-579909', 'mp-1181996', 'mp-1194362', 'mp-1188817', 'mp-1182684', 'mp-1197903', 'mp-568286', 'mp-683919', 'mp-1008395', 'mp-569416', 'mp-568806', 'mp-606949', 'mp-611426', 'mp-1147718', 'mp-570002', 'mp-616440', 'mp-1018088', 'mp-1040425', 'mp-937760', 'mp-990448', 'mp-1096869', 'mp-568028', 'mp-66', 'mp-997182', 'mp-1080826', 'mp-1203645', 'mp-1182029', 'mp-998866', 'mp-47', 'mp-630227', 'mp-1205417', 'mp-1244964', 'mp-569517', 'mp-1095534', 'mp-1196583', 'mp-680372', 'mp-169', 'mp-624889', 'mp-1245190', 'mp-667273', 'mp-568363', 'mp-1056957', 'mp-569304', 'mp-568410', 'mp-569567', 'mp-48', 'mp-1095633', 'mp-632329', 'mp-990424', 'mp-1190171', 'mp-1192619', 'mp-1009835', 'mp-1025192', 'mp-1009832', 'mp-1218120', 'mp-1218000', 'mp-1086', 'mp-7088', 'mp-1009817', 'mp-1187218', 'mp-6986', 'mp-569794', 'mp-42', 'mp-1076923', 'mp-50', 'mp-697196', 'mp-1217756', 'mp-1095086']\n"
     ]
    }
   ],
   "source": [
    "## Get Materials IDs\n",
    "mpr = MPRester(api_key)\n",
    "\n",
    "print('Exact Fe2O3 formula matches are: ', mpr.get_materials_ids(\"Fe2O3\"))\n",
    "print('All compounds in the Ta-C system are: ', mpr.get_materials_ids('Ta-C'))"
   ]
  },
  {
   "cell_type": "code",
   "execution_count": 129,
   "id": "876bc306",
   "metadata": {
    "scrolled": false
   },
   "outputs": [
    {
     "name": "stdout",
     "output_type": "stream",
     "text": [
      "Full Formula (Ta1 C1)\n",
      "Reduced Formula: TaC\n",
      "abc   :   3.169306   3.169306   3.169306\n",
      "angles:  60.000000  60.000000  60.000000\n",
      "pbc   :       True       True       True\n",
      "Sites (2)\n",
      "  #  SP      a    b    c    magmom\n",
      "---  ----  ---  ---  ---  --------\n",
      "  0  Ta    0    0    0          -0\n",
      "  1  C     0.5  0.5  0.5         0\n",
      "17.55140979\n"
     ]
    }
   ],
   "source": [
    "## Get Materials Formula\n",
    "with MPRester(api_key) as mpr:\n",
    "    \n",
    "    structure = mpr.get_structure_by_material_id('mp-1086')\n",
    "    print(structure)\n",
    "    cohesive_energy = mpr.get_cohesive_energy('mp-1086')\n",
    "    print(cohesive_energy)"
   ]
  },
  {
   "cell_type": "code",
   "execution_count": 126,
   "id": "62ea5c27",
   "metadata": {},
   "outputs": [],
   "source": [
    "## Search for material using cif card\n",
    "\n",
    "# mpr = MPRester(api_key)\n",
    "# ciffle = os.path.join('Carbon Emission Factor Database.xlsx')\n",
    "# data1 = mpr.find_structure(ciffle)\n",
    "# print(data1)"
   ]
  },
  {
   "cell_type": "code",
   "execution_count": 132,
   "id": "b685f61b",
   "metadata": {
    "scrolled": false
   },
   "outputs": [
    {
     "data": {
      "text/plain": [
       "[{'material_id': 'mp-557591', 'density': 1.9032425830232869},\n",
       " {'material_id': 'mp-557653', 'density': 2.7915883146405287},\n",
       " {'material_id': 'mp-639733', 'density': 1.7686263405666678},\n",
       " {'material_id': 'mp-1249090', 'density': 1.4151135094316538},\n",
       " {'material_id': 'mp-554151', 'density': 2.0565908355936617},\n",
       " {'material_id': 'mp-560809', 'density': 1.8109312140588252},\n",
       " {'material_id': 'mp-600068', 'density': 1.5736248321321527},\n",
       " {'material_id': 'mp-560973', 'density': 1.7653857538882725},\n",
       " {'material_id': 'mp-1204057', 'density': 1.5630043897829058},\n",
       " {'material_id': 'mp-639478', 'density': 1.3881230253122407},\n",
       " {'material_id': 'mp-554267', 'density': 1.8749759678102724},\n",
       " {'material_id': 'mp-1256499', 'density': 1.7955349573941035},\n",
       " {'material_id': 'mp-559273', 'density': 0.7032456146518321},\n",
       " {'material_id': 'mp-600045', 'density': 1.7269755431661924},\n",
       " {'material_id': 'mp-600054', 'density': 1.4923010686095928},\n",
       " {'material_id': 'mp-600063', 'density': 1.6690951682804045},\n",
       " {'material_id': 'mp-667368', 'density': 1.6224563748803997},\n",
       " {'material_id': 'mp-6930', 'density': 2.477387266586614},\n",
       " {'material_id': 'mp-559550', 'density': 1.8236232929713623},\n",
       " {'material_id': 'mp-562490', 'density': 1.796065487346111},\n",
       " {'material_id': 'mp-639705', 'density': 1.588028261127746},\n",
       " {'material_id': 'mp-559605', 'density': 1.9490744713808879},\n",
       " {'material_id': 'mp-558947', 'density': 1.661650331256439},\n",
       " {'material_id': 'mp-600051', 'density': 1.7783717335906506},\n",
       " {'material_id': 'mp-557873', 'density': 2.0335811006391564},\n",
       " {'material_id': 'mp-561291', 'density': 2.250650376742345},\n",
       " {'material_id': 'mp-667383', 'density': 1.7445321206863595},\n",
       " {'material_id': 'mp-554089', 'density': 2.200403279013789},\n",
       " {'material_id': 'mp-555823', 'density': 2.143859776026423},\n",
       " {'material_id': 'mp-600018', 'density': 1.8574841478466773},\n",
       " {'material_id': 'mp-600026', 'density': 2.00643421485995},\n",
       " {'material_id': 'mp-556464', 'density': 2.666282663013826},\n",
       " {'material_id': 'mp-560155', 'density': 1.707760808351377},\n",
       " {'material_id': 'mp-600096', 'density': 0.8285915683849135},\n",
       " {'material_id': 'mp-1257168', 'density': 1.579809177318999},\n",
       " {'material_id': 'mp-1195265', 'density': 1.736534051120021},\n",
       " {'material_id': 'mp-7905', 'density': 2.3429496419163374},\n",
       " {'material_id': 'mp-600041', 'density': 1.7644510646205314},\n",
       " {'material_id': 'mp-556376', 'density': 2.703090778688488},\n",
       " {'material_id': 'mp-667371', 'density': 1.8202988359068117},\n",
       " {'material_id': 'mp-1179529', 'density': 1.2526524243252977},\n",
       " {'material_id': 'mp-600005', 'density': 1.6128514490534338},\n",
       " {'material_id': 'mp-558025', 'density': 1.7690822039651897},\n",
       " {'material_id': 'mp-554682', 'density': 1.6930091824691085},\n",
       " {'material_id': 'mp-1265115', 'density': 2.088805185350241},\n",
       " {'material_id': 'mp-639558', 'density': 1.5093684743670717},\n",
       " {'material_id': 'mp-553945', 'density': 1.708082100223942},\n",
       " {'material_id': 'mp-558598', 'density': 1.9200921200827399},\n",
       " {'material_id': 'mp-557024', 'density': 1.5923747917106772},\n",
       " {'material_id': 'mp-557211', 'density': 1.6124041387002743},\n",
       " {'material_id': 'mp-558351', 'density': 1.7187378596392584},\n",
       " {'material_id': 'mp-1021503', 'density': 3.6163995819741603},\n",
       " {'material_id': 'mp-558115', 'density': 1.700326124280519},\n",
       " {'material_id': 'mp-667377', 'density': 1.79830885388452},\n",
       " {'material_id': 'mp-1179488', 'density': 1.9717222177494944},\n",
       " {'material_id': 'mp-556068', 'density': 0.7612361586770264},\n",
       " {'material_id': 'mp-557465', 'density': 2.39339005985657},\n",
       " {'material_id': 'mp-560131', 'density': 1.8510936083004257},\n",
       " {'material_id': 'mp-680222', 'density': 1.0697094015834516},\n",
       " {'material_id': 'mp-638035', 'density': 3.2220791813396046},\n",
       " {'material_id': 'mp-18280', 'density': 1.658786551774615},\n",
       " {'material_id': 'mp-685184', 'density': 2.2708496805179887},\n",
       " {'material_id': 'mp-667373', 'density': 1.7734538495981673},\n",
       " {'material_id': 'mp-559860', 'density': 2.1280222467656973},\n",
       " {'material_id': 'mp-561301', 'density': 2.3677804417831263},\n",
       " {'material_id': 'mp-558733', 'density': 4.076679595976442},\n",
       " {'material_id': 'mp-600024', 'density': 1.644543261030935},\n",
       " {'material_id': 'mp-10064', 'density': 4.146372198466779},\n",
       " {'material_id': 'mp-667448', 'density': 1.748562647913141},\n",
       " {'material_id': 'mp-555544', 'density': 2.0154250634699125},\n",
       " {'material_id': 'mp-546546', 'density': 2.0366332834322627},\n",
       " {'material_id': 'mp-556812', 'density': 2.875565414295886},\n",
       " {'material_id': 'mp-600078', 'density': 1.6299286303813019},\n",
       " {'material_id': 'mp-638033', 'density': 2.3061412314793235},\n",
       " {'material_id': 'mp-6945', 'density': 2.174542174482395},\n",
       " {'material_id': 'mp-1258196', 'density': 1.7807076730813818},\n",
       " {'material_id': 'mp-1268079', 'density': 1.6058095714647767},\n",
       " {'material_id': 'mp-600080', 'density': 1.4590351241079755},\n",
       " {'material_id': 'mp-7000', 'density': 2.487349728586711},\n",
       " {'material_id': 'mp-1179454', 'density': 1.858845386104409},\n",
       " {'material_id': 'mp-985590', 'density': 2.0395559133549046},\n",
       " {'material_id': 'mp-556469', 'density': 1.6831947954315825},\n",
       " {'material_id': 'mp-600001', 'density': 1.5878120855105158},\n",
       " {'material_id': 'mp-600028', 'density': 1.8861064762616322},\n",
       " {'material_id': 'mp-600111', 'density': 1.6132722516357805},\n",
       " {'material_id': 'mp-9258', 'density': 4.415008876158773},\n",
       " {'material_id': 'mp-644923', 'density': 1.6992833805705814},\n",
       " {'material_id': 'mp-1244965', 'density': 2.064175138065063},\n",
       " {'material_id': 'mp-559360', 'density': 1.6741242150619116},\n",
       " {'material_id': 'mp-667376', 'density': 1.7972785073941469},\n",
       " {'material_id': 'mp-32667', 'density': 4.195638139760743},\n",
       " {'material_id': 'mp-557814', 'density': 2.0860349747839497},\n",
       " {'material_id': 'mp-16964', 'density': 1.880152194817279},\n",
       " {'material_id': 'mp-558564', 'density': 1.69606335340468},\n",
       " {'material_id': 'mp-639748', 'density': 1.4490182911344476},\n",
       " {'material_id': 'mp-8602', 'density': 1.6747280126219923},\n",
       " {'material_id': 'mp-10948', 'density': 4.21692910296805},\n",
       " {'material_id': 'mp-558891', 'density': 2.2413633280733958},\n",
       " {'material_id': 'mp-600084', 'density': 1.8422238366376649},\n",
       " {'material_id': 'mp-558931', 'density': 1.8870732340619993},\n",
       " {'material_id': 'mp-640917', 'density': 2.275643684940116},\n",
       " {'material_id': 'mp-555165', 'density': 2.3943535269064546},\n",
       " {'material_id': 'mp-17909', 'density': 1.4762378790744928},\n",
       " {'material_id': 'mp-559962', 'density': 1.3449456443460588},\n",
       " {'material_id': 'mp-683970', 'density': 1.5522171743730009},\n",
       " {'material_id': 'mp-7648', 'density': 2.0594539776596066},\n",
       " {'material_id': 'mp-1205213', 'density': 1.7872991778902207},\n",
       " {'material_id': 'mp-558366', 'density': 2.3904632624918225},\n",
       " {'material_id': 'mp-600049', 'density': 1.8010675490709787},\n",
       " {'material_id': 'mp-556985', 'density': 1.9362016114590115},\n",
       " {'material_id': 'mp-557894', 'density': 1.645014777547254},\n",
       " {'material_id': 'mp-651707', 'density': 1.846864141465728},\n",
       " {'material_id': 'mp-556088', 'density': 1.717308695781594},\n",
       " {'material_id': 'mp-557134', 'density': 2.241793715430198},\n",
       " {'material_id': 'mp-1249969', 'density': 1.5491376428461365},\n",
       " {'material_id': 'mp-555483', 'density': 2.3710692600425385},\n",
       " {'material_id': 'mp-683947', 'density': 2.1517452947970104},\n",
       " {'material_id': 'mp-559347', 'density': 2.3866662689202576},\n",
       " {'material_id': 'mp-559928', 'density': 1.5505271501710527},\n",
       " {'material_id': 'mp-557881', 'density': 1.7234465165195987},\n",
       " {'material_id': 'mp-600007', 'density': 1.674121858135239},\n",
       " {'material_id': 'mp-639506', 'density': 1.8079675715997388},\n",
       " {'material_id': 'mp-17279', 'density': 1.6326799892939676},\n",
       " {'material_id': 'mp-559872', 'density': 2.3654253681861124},\n",
       " {'material_id': 'mp-600057', 'density': 1.6728570051511673},\n",
       " {'material_id': 'mp-639512', 'density': 1.75593385098619},\n",
       " {'material_id': 'mp-1250551', 'density': 1.8042897490220702},\n",
       " {'material_id': 'mp-1071820', 'density': 2.43475720536978},\n",
       " {'material_id': 'mp-600072', 'density': 1.4768376489342254},\n",
       " {'material_id': 'mp-600060', 'density': 1.7296658799735356},\n",
       " {'material_id': 'mp-639695', 'density': 1.6790349861053018},\n",
       " {'material_id': 'mp-600055', 'density': 1.701430731842518},\n",
       " {'material_id': 'mp-646895', 'density': 1.6799211248279624},\n",
       " {'material_id': 'mp-600031', 'density': 1.8332249691926068},\n",
       " {'material_id': 'mp-545488', 'density': 2.377901047050323},\n",
       " {'material_id': 'mp-615993', 'density': 1.7582098754299407},\n",
       " {'material_id': 'mp-556218', 'density': 1.8464944031396437},\n",
       " {'material_id': 'mp-600067', 'density': 1.3724296327202952},\n",
       " {'material_id': 'mp-558326', 'density': 1.7500924303508865},\n",
       " {'material_id': 'mp-555791', 'density': 1.1062949814317262},\n",
       " {'material_id': 'mp-561181', 'density': 1.5091952250599157},\n",
       " {'material_id': 'mp-600016', 'density': 1.605381408202351},\n",
       " {'material_id': 'mp-600109', 'density': 1.7121864656288612},\n",
       " {'material_id': 'mp-1248957', 'density': 1.630401856105907},\n",
       " {'material_id': 'mp-555891', 'density': 1.9926803317505146},\n",
       " {'material_id': 'mp-560941', 'density': 1.5588519282450786},\n",
       " {'material_id': 'mp-1200292', 'density': 1.6982993982485213},\n",
       " {'material_id': 'mp-559829', 'density': 1.042814859958526},\n",
       " {'material_id': 'mp-7087', 'density': 1.922150373619981},\n",
       " {'material_id': 'mp-1245026', 'density': 2.085773284896701},\n",
       " {'material_id': 'mp-1256614', 'density': 1.6457476070184827},\n",
       " {'material_id': 'mp-554665', 'density': 2.1171905537756097},\n",
       " {'material_id': 'mp-559389', 'density': 2.7175928711876365},\n",
       " {'material_id': 'mp-600015', 'density': 1.6527193171868533},\n",
       " {'material_id': 'mp-557194', 'density': 2.0840597509336916},\n",
       " {'material_id': 'mp-985570', 'density': 2.249241218433395},\n",
       " {'material_id': 'mp-557017', 'density': 2.43015102520692},\n",
       " {'material_id': 'mp-600038', 'density': 1.5920763117346137},\n",
       " {'material_id': 'mp-1249332', 'density': 1.5679120717633357},\n",
       " {'material_id': 'mp-555235', 'density': 2.0758326534968803},\n",
       " {'material_id': 'mp-554543', 'density': 1.7788437836677926},\n",
       " {'material_id': 'mp-558569', 'density': 2.19908457981205},\n",
       " {'material_id': 'mp-600033', 'density': 1.6330223782245645},\n",
       " {'material_id': 'mp-556961', 'density': 2.037941451532423},\n",
       " {'material_id': 'mp-530546', 'density': 1.6368751505638435},\n",
       " {'material_id': 'mp-558200', 'density': 2.33402045039911},\n",
       " {'material_id': 'mp-639734', 'density': 1.731760150038808},\n",
       " {'material_id': 'mp-555497', 'density': 2.710296712000617},\n",
       " {'material_id': 'mp-600091', 'density': 1.7143466252635213},\n",
       " {'material_id': 'mp-560203', 'density': 2.6240245855798823},\n",
       " {'material_id': 'mp-11684', 'density': 2.7963127308920934},\n",
       " {'material_id': 'mp-556319', 'density': 2.3025955057456566},\n",
       " {'material_id': 'mp-560826', 'density': 1.7956563361408324},\n",
       " {'material_id': 'mp-553993', 'density': 1.4927332366429658},\n",
       " {'material_id': 'mp-553881', 'density': 3.06242374966523},\n",
       " {'material_id': 'mp-561090', 'density': 1.692172893861769},\n",
       " {'material_id': 'mp-600002', 'density': 1.7326571862123887},\n",
       " {'material_id': 'mp-557771', 'density': 1.519418577862858},\n",
       " {'material_id': 'mp-639463', 'density': 1.8423298401468107},\n",
       " {'material_id': 'mp-556257', 'density': 1.797068970772596},\n",
       " {'material_id': 'mp-600006', 'density': 1.902579966116427},\n",
       " {'material_id': 'mp-600023', 'density': 1.5534722600693927},\n",
       " {'material_id': 'mp-653763', 'density': 1.6762487191749467},\n",
       " {'material_id': 'mp-680204', 'density': 1.9464083963128354},\n",
       " {'material_id': 'mp-15078', 'density': 1.7280587113318884},\n",
       " {'material_id': 'mp-556882', 'density': 2.513954110678449},\n",
       " {'material_id': 'mp-600053', 'density': 1.6573813831478508},\n",
       " {'material_id': 'mp-972808', 'density': 2.143414220968081},\n",
       " {'material_id': 'mp-554243', 'density': 1.8083829470444959},\n",
       " {'material_id': 'mp-554498', 'density': 2.0524957546256104},\n",
       " {'material_id': 'mp-556044', 'density': 1.7590087867006143},\n",
       " {'material_id': 'mp-600022', 'density': 1.4794235901530324},\n",
       " {'material_id': 'mp-600037', 'density': 1.6328038203595545},\n",
       " {'material_id': 'mp-542814', 'density': 2.0674536941630506},\n",
       " {'material_id': 'mp-600050', 'density': 1.6412849518969532},\n",
       " {'material_id': 'mp-683952', 'density': 2.1381457308152387},\n",
       " {'material_id': 'mp-1249637', 'density': 1.529545902840372},\n",
       " {'material_id': 'mp-638049', 'density': 3.094817835750018},\n",
       " {'material_id': 'mp-560527', 'density': 1.751719201634276},\n",
       " {'material_id': 'mp-1250261', 'density': 1.5675341865703614},\n",
       " {'material_id': 'mp-1250639', 'density': 1.7156107696674407},\n",
       " {'material_id': 'mp-600004', 'density': 1.8367203248438082},\n",
       " {'material_id': 'mp-556588', 'density': 2.974995908725371},\n",
       " {'material_id': 'mp-558301', 'density': 1.6243095265883123},\n",
       " {'material_id': 'mp-572283', 'density': 2.632751170537727},\n",
       " {'material_id': 'mp-673168', 'density': 1.4664353926709477},\n",
       " {'material_id': 'mp-556553', 'density': 2.4632458353221423},\n",
       " {'material_id': 'mp-604717', 'density': 1.317956232392047},\n",
       " {'material_id': 'mp-561488', 'density': 1.6975188616560433},\n",
       " {'material_id': 'mp-559091', 'density': 2.0450654153141734},\n",
       " {'material_id': 'mp-662706', 'density': 1.773361442931937},\n",
       " {'material_id': 'mp-600083', 'density': 1.6444918937616182},\n",
       " {'material_id': 'mp-1201738', 'density': 2.8045766160787293},\n",
       " {'material_id': 'mp-555355', 'density': 2.253858047171215},\n",
       " {'material_id': 'mp-557244', 'density': 2.595391012166959},\n",
       " {'material_id': 'mp-600076', 'density': 1.8703281989715481},\n",
       " {'material_id': 'mp-640556', 'density': 2.15810277740296},\n",
       " {'material_id': 'mp-600000', 'density': 1.7264054135191658},\n",
       " {'material_id': 'mp-600070', 'density': 1.7234112553869863},\n",
       " {'material_id': 'mp-559313', 'density': 1.8728949982061982},\n",
       " {'material_id': 'mp-555147', 'density': 2.520711044474197},\n",
       " {'material_id': 'mp-638038', 'density': 1.9952274096391784},\n",
       " {'material_id': 'mp-1188220', 'density': 1.6469609857779863},\n",
       " {'material_id': 'mp-556662', 'density': 2.2558702384173963},\n",
       " {'material_id': 'mp-1200685', 'density': 1.7150036662030719},\n",
       " {'material_id': 'mp-683953', 'density': 2.075510883727411},\n",
       " {'material_id': 'mp-555411', 'density': 2.3994803438060974},\n",
       " {'material_id': 'mp-556591', 'density': 1.6356859438263578},\n",
       " {'material_id': 'mp-32895', 'density': 1.2925538592205346},\n",
       " {'material_id': 'mp-558374', 'density': 2.047449048513904},\n",
       " {'material_id': 'mp-557723', 'density': 2.1580667934051334},\n",
       " {'material_id': 'mp-560336', 'density': 1.6424850722461417},\n",
       " {'material_id': 'mp-600098', 'density': 1.59918685089879},\n",
       " {'material_id': 'mp-12350', 'density': 0.8927451734031937},\n",
       " {'material_id': 'mp-1244968', 'density': 2.0111127657088725},\n",
       " {'material_id': 'mp-556454', 'density': 1.780411233043766},\n",
       " {'material_id': 'mp-561351', 'density': 1.799014335342543},\n",
       " {'material_id': 'mp-554175', 'density': 1.6248571437369776},\n",
       " {'material_id': 'mp-639480', 'density': 1.6299747990911122},\n",
       " {'material_id': 'mp-1204070', 'density': 2.869771883912792},\n",
       " {'material_id': 'mp-560836', 'density': 1.7608883755232667},\n",
       " {'material_id': 'mp-12787', 'density': 2.427300008191157},\n",
       " {'material_id': 'mp-1204026', 'density': 2.546141580647245},\n",
       " {'material_id': 'mp-545719', 'density': 2.188688697266331},\n",
       " {'material_id': 'mp-600014', 'density': 1.7557258854607638},\n",
       " {'material_id': 'mp-556654', 'density': 1.9691872717588619},\n",
       " {'material_id': 'mp-600032', 'density': 1.4820143037481077},\n",
       " {'material_id': 'mp-6947', 'density': 4.134211694722908},\n",
       " {'material_id': 'mp-556564', 'density': 2.552239405090135},\n",
       " {'material_id': 'mp-600061', 'density': 1.712920397789102},\n",
       " {'material_id': 'mp-1244945', 'density': 2.0820941992180426},\n",
       " {'material_id': 'mp-600039', 'density': 1.8129174865707576},\n",
       " {'material_id': 'mp-557837', 'density': 2.2233048070626316},\n",
       " {'material_id': 'mp-560064', 'density': 1.493559427305083},\n",
       " {'material_id': 'mp-34150', 'density': 1.636679900370668},\n",
       " {'material_id': 'mp-557004', 'density': 1.7581230423190537},\n",
       " {'material_id': 'mp-556132', 'density': 2.9154290298098062},\n",
       " {'material_id': 'mp-560998', 'density': 1.7260579212810647},\n",
       " {'material_id': 'mp-10851', 'density': 2.3715240112456746},\n",
       " {'material_id': 'mp-555556', 'density': 1.919299978503174},\n",
       " {'material_id': 'mp-556537', 'density': 2.2699118061810966},\n",
       " {'material_id': 'mp-559740', 'density': 1.3185727170969321},\n",
       " {'material_id': 'mp-600052', 'density': 1.8421931325617893},\n",
       " {'material_id': 'mp-554755', 'density': 1.4651788979237916},\n",
       " {'material_id': 'mp-555676', 'density': 2.2522919217901656},\n",
       " {'material_id': 'mp-546794', 'density': 2.116918417006954},\n",
       " {'material_id': 'mp-639724', 'density': 1.6037806370918983},\n",
       " {'material_id': 'mp-639741', 'density': 1.4117116090614077},\n",
       " {'material_id': 'mp-639682', 'density': 1.5596385904711612},\n",
       " {'material_id': 'mp-600027', 'density': 1.5752730573793068},\n",
       " {'material_id': 'mp-555394', 'density': 0.5719008328503913},\n",
       " {'material_id': 'mp-557930', 'density': 2.253446009561667},\n",
       " {'material_id': 'mp-558203', 'density': 1.28342278364601},\n",
       " {'material_id': 'mp-555700', 'density': 1.8075034934169236},\n",
       " {'material_id': 'mp-560708', 'density': 1.7705096688882418},\n",
       " {'material_id': 'mp-639511', 'density': 1.5997400896351792},\n",
       " {'material_id': 'mp-554258', 'density': 1.7589142062565262},\n",
       " {'material_id': 'mp-669426', 'density': 2.203234379857348},\n",
       " {'material_id': 'mp-600059', 'density': 1.9075560437000383},\n",
       " {'material_id': 'mp-554397', 'density': 2.429248533670178},\n",
       " {'material_id': 'mp-560954', 'density': 2.080419523576639},\n",
       " {'material_id': 'mp-555521', 'density': 1.698971237515634},\n",
       " {'material_id': 'mp-733790', 'density': 2.1482990633673347},\n",
       " {'material_id': 'mp-555251', 'density': 1.8483254376429203},\n",
       " {'material_id': 'mp-560754', 'density': 2.383614096442892},\n",
       " {'material_id': 'mp-1179447', 'density': 1.7306534625456713},\n",
       " {'material_id': 'mp-555740', 'density': 2.5224542178702607},\n",
       " {'material_id': 'mp-557076', 'density': 2.1598654872851792},\n",
       " {'material_id': 'mp-556963', 'density': 2.255075579968648},\n",
       " {'material_id': 'mp-600029', 'density': 1.8462867161635765},\n",
       " {'material_id': 'mp-600003', 'density': 1.7461564765340378},\n",
       " {'material_id': 'mp-554946', 'density': 1.708484161020461},\n",
       " {'material_id': 'mp-557118', 'density': 2.3222860599922055},\n",
       " {'material_id': 'mp-560920', 'density': 1.6328571288648723},\n",
       " {'material_id': 'mp-1203655', 'density': 1.6630227761002576},\n",
       " {'material_id': 'mp-555960', 'density': 0.9377696208466312},\n",
       " {'material_id': 'mp-556788', 'density': 2.6965217613044623},\n",
       " {'material_id': 'mp-600085', 'density': 1.4805262868281193},\n",
       " {'material_id': 'mp-556880', 'density': 2.2458001836461055},\n",
       " {'material_id': 'mp-556994', 'density': 2.240376675787586},\n",
       " {'material_id': 'mp-8352', 'density': 1.9219054626609324},\n",
       " {'material_id': 'mp-532105', 'density': 1.6128370471833102},\n",
       " {'material_id': 'mp-555211', 'density': 1.5112640628412595},\n",
       " {'material_id': 'mp-557264', 'density': 2.016537153648786},\n",
       " {'material_id': 'mp-600065', 'density': 1.91300513193974},\n",
       " {'material_id': 'mp-8059', 'density': 2.103298672982624},\n",
       " {'material_id': 'mp-6922', 'density': 2.3711284918222453},\n",
       " {'material_id': 'mp-556262', 'density': 1.6542026147420281},\n",
       " {'material_id': 'mp-556027', 'density': 1.6234637589729908},\n",
       " {'material_id': 'mp-554573', 'density': 2.108999501757123},\n",
       " {'material_id': 'mp-557933', 'density': 1.8812399551180605},\n",
       " {'material_id': 'mp-560152', 'density': 2.287444624856954},\n",
       " {'material_id': 'mp-7029', 'density': 2.1750637649307256},\n",
       " {'material_id': 'mp-600071', 'density': 1.761320707819891}]"
      ]
     },
     "execution_count": 132,
     "metadata": {},
     "output_type": "execute_result"
    }
   ],
   "source": [
    "## Query through: find carbides? \n",
    "## Use MongoDB's query syntax -> mpr.query(criteria, properties)\n",
    "\n",
    "mpr = MPRester(api_key)\n",
    "\n",
    "# mpr.query({'chemsys':'O-Si'},['material_id'])\n",
    "mpr.query('SiO2', ['material_id','density'])\n",
    "# mpr.query('**O3', ['pretty_formular', 'material_id'])"
   ]
  },
  {
   "cell_type": "code",
   "execution_count": 137,
   "id": "62c07b7d",
   "metadata": {},
   "outputs": [
    {
     "data": {
      "image/png": "[encoded data removed]",
      "text/plain": [
       "<Figure size 640x480 with 1 Axes>"
      ]
     },
     "metadata": {},
     "output_type": "display_data"
    }
   ],
   "source": [
    "%matplotlib inline\n",
    "\n",
    "with MPRester(api_key) as mpr:\n",
    "    \n",
    "    entries = mpr.query('Ta-C',['material_id','spacegroup.crystal_system'])\n",
    "    systems = [entry['spacegroup.crystal_system'] for entry in entries]\n",
    "    counts = {}\n",
    "    \n",
    "    for system in systems:\n",
    "        if system in counts:\n",
    "            counts[system] += 1\n",
    "        else:\n",
    "            counts[system] = 1\n",
    "    \n",
    "    plt.bar(range(len(counts)), counts.values())\n",
    "    plt.xticks(range(len(counts)), [key[0:7] for key in counts.keys()])\n",
    "    "
   ]
  },
  {
   "cell_type": "code",
   "execution_count": null,
   "id": "39d27f8e",
   "metadata": {},
   "outputs": [],
   "source": []
  },
  {
   "cell_type": "code",
   "execution_count": null,
   "id": "6d74eb4e",
   "metadata": {},
   "outputs": [],
   "source": []
  },
  {
   "cell_type": "code",
   "execution_count": null,
   "id": "30737778",
   "metadata": {},
   "outputs": [],
   "source": []
  },
  {
   "cell_type": "code",
   "execution_count": null,
   "id": "de28f955",
   "metadata": {},
   "outputs": [],
   "source": []
  },
  {
   "cell_type": "code",
   "execution_count": null,
   "id": "bfef4190",
   "metadata": {},
   "outputs": [],
   "source": []
  },
  {
   "cell_type": "code",
   "execution_count": null,
   "id": "67351f08",
   "metadata": {},
   "outputs": [],
   "source": []
  },
  {
   "cell_type": "code",
   "execution_count": null,
   "id": "3191c3b1",
   "metadata": {},
   "outputs": [],
   "source": []
  },
  {
   "cell_type": "code",
   "execution_count": null,
   "id": "f56bcae9",
   "metadata": {},
   "outputs": [],
   "source": []
  },
  {
   "cell_type": "code",
   "execution_count": null,
   "id": "46f358a1",
   "metadata": {},
   "outputs": [],
   "source": []
  },
  {
   "cell_type": "code",
   "execution_count": null,
   "id": "a1767778",
   "metadata": {},
   "outputs": [],
   "source": []
  },
  {
   "cell_type": "code",
   "execution_count": null,
   "id": "2582ae24",
   "metadata": {},
   "outputs": [],
   "source": []
  },
  {
   "cell_type": "code",
   "execution_count": null,
   "id": "4767c4e1",
   "metadata": {},
   "outputs": [],
   "source": []
  },
  {
   "cell_type": "code",
   "execution_count": null,
   "id": "bdb44b09",
   "metadata": {},
   "outputs": [],
   "source": []
  },
  {
   "cell_type": "code",
   "execution_count": null,
   "id": "2e17b310",
   "metadata": {},
   "outputs": [],
   "source": []
  },
  {
   "cell_type": "code",
   "execution_count": 32,
   "id": "a1cef33b",
   "metadata": {},
   "outputs": [],
   "source": [
    "excel_file = 'Carbon Emission Factor Database.xlsx'\n",
    "df = pd.read_excel(excel_file, sheet_name='建筑材料(Building Materials)')"
   ]
  },
  {
   "cell_type": "code",
   "execution_count": 40,
   "id": "d93ca40e",
   "metadata": {
    "scrolled": false
   },
   "outputs": [
    {
     "ename": "MPRestError",
     "evalue": "REST query returned with error status code 400 on URL https://api.materialsproject.org/materials/summary/?_all_fields=True&formula=+market+average%29&_limit=500 with message:\nProblem processing one or more provided formulas.",
     "output_type": "error",
     "traceback": [
      "\u001b[0;31m---------------------------------------------------------------------------\u001b[0m",
      "\u001b[0;31mMPRestError\u001b[0m                               Traceback (most recent call last)",
      "\u001b[0;32m/var/folders/pb/c1yrsckn6dnghx51jk5gj12r0000gn/T/ipykernel_69941/1253064145.py\u001b[0m in \u001b[0;36m<module>\u001b[0;34m\u001b[0m\n\u001b[1;32m      9\u001b[0m \u001b[0;32mfor\u001b[0m \u001b[0mindex\u001b[0m\u001b[0;34m,\u001b[0m \u001b[0mrow\u001b[0m \u001b[0;32min\u001b[0m \u001b[0mdf\u001b[0m\u001b[0;34m.\u001b[0m\u001b[0miterrows\u001b[0m\u001b[0;34m(\u001b[0m\u001b[0;34m)\u001b[0m\u001b[0;34m:\u001b[0m\u001b[0;34m\u001b[0m\u001b[0;34m\u001b[0m\u001b[0m\n\u001b[1;32m     10\u001b[0m     \u001b[0mmaterial\u001b[0m \u001b[0;34m=\u001b[0m \u001b[0mrow\u001b[0m\u001b[0;34m[\u001b[0m\u001b[0;34m'材料'\u001b[0m\u001b[0;34m]\u001b[0m\u001b[0;34m\u001b[0m\u001b[0;34m\u001b[0m\u001b[0m\n\u001b[0;32m---> 11\u001b[0;31m     \u001b[0mdata\u001b[0m \u001b[0;34m=\u001b[0m \u001b[0mmp\u001b[0m\u001b[0;34m.\u001b[0m\u001b[0msummary\u001b[0m\u001b[0;34m.\u001b[0m\u001b[0msearch\u001b[0m\u001b[0;34m(\u001b[0m\u001b[0mformula\u001b[0m\u001b[0;34m=\u001b[0m\u001b[0mmaterial\u001b[0m\u001b[0;34m)\u001b[0m\u001b[0;34m\u001b[0m\u001b[0;34m\u001b[0m\u001b[0m\n\u001b[0m\u001b[1;32m     12\u001b[0m     \u001b[0;32mif\u001b[0m \u001b[0mdata\u001b[0m\u001b[0;34m:\u001b[0m\u001b[0;34m\u001b[0m\u001b[0;34m\u001b[0m\u001b[0m\n\u001b[1;32m     13\u001b[0m         \u001b[0mdensity\u001b[0m \u001b[0;34m=\u001b[0m \u001b[0mdata\u001b[0m\u001b[0;34m[\u001b[0m\u001b[0;36m0\u001b[0m\u001b[0;34m]\u001b[0m\u001b[0;34m.\u001b[0m\u001b[0mget\u001b[0m\u001b[0;34m(\u001b[0m\u001b[0;34m'density'\u001b[0m\u001b[0;34m)\u001b[0m\u001b[0;34m\u001b[0m\u001b[0;34m\u001b[0m\u001b[0m\n",
      "\u001b[0;32m~/opt/anaconda3/lib/python3.9/site-packages/mp_api/client/routes/summary.py\u001b[0m in \u001b[0;36msearch\u001b[0;34m(self, band_gap, chemsys, crystal_system, density, deprecated, e_electronic, e_ionic, e_total, efermi, elastic_anisotropy, elements, energy_above_hull, equilibrium_reaction_energy, exclude_elements, formation_energy, formula, g_reuss, g_voigt, g_vrh, has_props, has_reconstructed, is_gap_direct, is_metal, is_stable, k_reuss, k_voigt, k_vrh, magnetic_ordering, material_ids, n, num_elements, num_sites, num_magnetic_sites, num_unique_magnetic_sites, piezoelectric_modulus, poisson_ratio, possible_species, shape_factor, spacegroup_number, spacegroup_symbol, surface_energy_anisotropy, theoretical, total_energy, total_magnetization, total_magnetization_normalized_formula_units, total_magnetization_normalized_vol, uncorrected_energy, volume, weighted_surface_energy, weighted_work_function, sort_fields, num_chunks, chunk_size, all_fields, fields)\u001b[0m\n\u001b[1;32m    281\u001b[0m         }\n\u001b[1;32m    282\u001b[0m \u001b[0;34m\u001b[0m\u001b[0m\n\u001b[0;32m--> 283\u001b[0;31m         return super()._search(\n\u001b[0m\u001b[1;32m    284\u001b[0m             \u001b[0mnum_chunks\u001b[0m\u001b[0;34m=\u001b[0m\u001b[0mnum_chunks\u001b[0m\u001b[0;34m,\u001b[0m\u001b[0;34m\u001b[0m\u001b[0;34m\u001b[0m\u001b[0m\n\u001b[1;32m    285\u001b[0m             \u001b[0mchunk_size\u001b[0m\u001b[0;34m=\u001b[0m\u001b[0mchunk_size\u001b[0m\u001b[0;34m,\u001b[0m\u001b[0;34m\u001b[0m\u001b[0;34m\u001b[0m\u001b[0m\n",
      "\u001b[0;32m~/opt/anaconda3/lib/python3.9/site-packages/mp_api/client/core/client.py\u001b[0m in \u001b[0;36m_search\u001b[0;34m(self, num_chunks, chunk_size, all_fields, fields, **kwargs)\u001b[0m\n\u001b[1;32m    938\u001b[0m         \u001b[0;31m# documented kwargs.\u001b[0m\u001b[0;34m\u001b[0m\u001b[0;34m\u001b[0m\u001b[0m\n\u001b[1;32m    939\u001b[0m \u001b[0;34m\u001b[0m\u001b[0m\n\u001b[0;32m--> 940\u001b[0;31m         return self._get_all_documents(\n\u001b[0m\u001b[1;32m    941\u001b[0m             \u001b[0mkwargs\u001b[0m\u001b[0;34m,\u001b[0m\u001b[0;34m\u001b[0m\u001b[0;34m\u001b[0m\u001b[0m\n\u001b[1;32m    942\u001b[0m             \u001b[0mall_fields\u001b[0m\u001b[0;34m=\u001b[0m\u001b[0mall_fields\u001b[0m\u001b[0;34m,\u001b[0m\u001b[0;34m\u001b[0m\u001b[0;34m\u001b[0m\u001b[0m\n",
      "\u001b[0;32m~/opt/anaconda3/lib/python3.9/site-packages/mp_api/client/core/client.py\u001b[0m in \u001b[0;36m_get_all_documents\u001b[0;34m(self, query_params, all_fields, fields, chunk_size, num_chunks)\u001b[0m\n\u001b[1;32m    985\u001b[0m         \u001b[0mchosen_param\u001b[0m \u001b[0;34m=\u001b[0m \u001b[0mlist_entries\u001b[0m\u001b[0;34m[\u001b[0m\u001b[0;36m0\u001b[0m\u001b[0;34m]\u001b[0m\u001b[0;34m[\u001b[0m\u001b[0;36m0\u001b[0m\u001b[0;34m]\u001b[0m \u001b[0;32mif\u001b[0m \u001b[0mlen\u001b[0m\u001b[0;34m(\u001b[0m\u001b[0mlist_entries\u001b[0m\u001b[0;34m)\u001b[0m \u001b[0;34m>\u001b[0m \u001b[0;36m0\u001b[0m \u001b[0;32melse\u001b[0m \u001b[0;32mNone\u001b[0m\u001b[0;34m\u001b[0m\u001b[0;34m\u001b[0m\u001b[0m\n\u001b[1;32m    986\u001b[0m \u001b[0;34m\u001b[0m\u001b[0m\n\u001b[0;32m--> 987\u001b[0;31m         results = self._query_resource(\n\u001b[0m\u001b[1;32m    988\u001b[0m             \u001b[0mquery_params\u001b[0m\u001b[0;34m,\u001b[0m\u001b[0;34m\u001b[0m\u001b[0;34m\u001b[0m\u001b[0m\n\u001b[1;32m    989\u001b[0m             \u001b[0mfields\u001b[0m\u001b[0;34m=\u001b[0m\u001b[0mfields\u001b[0m\u001b[0;34m,\u001b[0m\u001b[0;34m\u001b[0m\u001b[0;34m\u001b[0m\u001b[0m\n",
      "\u001b[0;32m~/opt/anaconda3/lib/python3.9/site-packages/mp_api/client/core/client.py\u001b[0m in \u001b[0;36m_query_resource\u001b[0;34m(self, criteria, fields, suburl, use_document_model, parallel_param, num_chunks, chunk_size, timeout)\u001b[0m\n\u001b[1;32m    286\u001b[0m                     \u001b[0murl\u001b[0m \u001b[0;34m+=\u001b[0m \u001b[0;34m\"/\"\u001b[0m\u001b[0;34m\u001b[0m\u001b[0;34m\u001b[0m\u001b[0m\n\u001b[1;32m    287\u001b[0m \u001b[0;34m\u001b[0m\u001b[0m\n\u001b[0;32m--> 288\u001b[0;31m             data = self._submit_requests(\n\u001b[0m\u001b[1;32m    289\u001b[0m                 \u001b[0murl\u001b[0m\u001b[0;34m=\u001b[0m\u001b[0murl\u001b[0m\u001b[0;34m,\u001b[0m\u001b[0;34m\u001b[0m\u001b[0;34m\u001b[0m\u001b[0m\n\u001b[1;32m    290\u001b[0m                 \u001b[0mcriteria\u001b[0m\u001b[0;34m=\u001b[0m\u001b[0mcriteria\u001b[0m\u001b[0;34m,\u001b[0m\u001b[0;34m\u001b[0m\u001b[0;34m\u001b[0m\u001b[0m\n",
      "\u001b[0;32m~/opt/anaconda3/lib/python3.9/site-packages/mp_api/client/core/client.py\u001b[0m in \u001b[0;36m_submit_requests\u001b[0;34m(self, url, criteria, use_document_model, parallel_param, num_chunks, chunk_size, timeout)\u001b[0m\n\u001b[1;32m    427\u001b[0m         ]\n\u001b[1;32m    428\u001b[0m \u001b[0;34m\u001b[0m\u001b[0m\n\u001b[0;32m--> 429\u001b[0;31m         initial_data_tuples = self._multi_thread(\n\u001b[0m\u001b[1;32m    430\u001b[0m             \u001b[0muse_document_model\u001b[0m\u001b[0;34m,\u001b[0m \u001b[0minitial_params_list\u001b[0m\u001b[0;34m\u001b[0m\u001b[0;34m\u001b[0m\u001b[0m\n\u001b[1;32m    431\u001b[0m         )\n",
      "\u001b[0;32m~/opt/anaconda3/lib/python3.9/site-packages/mp_api/client/core/client.py\u001b[0m in \u001b[0;36m_multi_thread\u001b[0;34m(self, use_document_model, params_list, progress_bar, timeout)\u001b[0m\n\u001b[1;32m    641\u001b[0m \u001b[0;34m\u001b[0m\u001b[0m\n\u001b[1;32m    642\u001b[0m                 \u001b[0;32mfor\u001b[0m \u001b[0mfuture\u001b[0m \u001b[0;32min\u001b[0m \u001b[0mfinished\u001b[0m\u001b[0;34m:\u001b[0m\u001b[0;34m\u001b[0m\u001b[0;34m\u001b[0m\u001b[0m\n\u001b[0;32m--> 643\u001b[0;31m                     \u001b[0mdata\u001b[0m\u001b[0;34m,\u001b[0m \u001b[0msubtotal\u001b[0m \u001b[0;34m=\u001b[0m \u001b[0mfuture\u001b[0m\u001b[0;34m.\u001b[0m\u001b[0mresult\u001b[0m\u001b[0;34m(\u001b[0m\u001b[0;34m)\u001b[0m\u001b[0;34m\u001b[0m\u001b[0;34m\u001b[0m\u001b[0m\n\u001b[0m\u001b[1;32m    644\u001b[0m \u001b[0;34m\u001b[0m\u001b[0m\n\u001b[1;32m    645\u001b[0m                     \u001b[0;32mif\u001b[0m \u001b[0mprogress_bar\u001b[0m \u001b[0;32mis\u001b[0m \u001b[0;32mnot\u001b[0m \u001b[0;32mNone\u001b[0m\u001b[0;34m:\u001b[0m\u001b[0;34m\u001b[0m\u001b[0;34m\u001b[0m\u001b[0m\n",
      "\u001b[0;32m~/opt/anaconda3/lib/python3.9/concurrent/futures/_base.py\u001b[0m in \u001b[0;36mresult\u001b[0;34m(self, timeout)\u001b[0m\n\u001b[1;32m    437\u001b[0m                     \u001b[0;32mraise\u001b[0m \u001b[0mCancelledError\u001b[0m\u001b[0;34m(\u001b[0m\u001b[0;34m)\u001b[0m\u001b[0;34m\u001b[0m\u001b[0;34m\u001b[0m\u001b[0m\n\u001b[1;32m    438\u001b[0m                 \u001b[0;32melif\u001b[0m \u001b[0mself\u001b[0m\u001b[0;34m.\u001b[0m\u001b[0m_state\u001b[0m \u001b[0;34m==\u001b[0m \u001b[0mFINISHED\u001b[0m\u001b[0;34m:\u001b[0m\u001b[0;34m\u001b[0m\u001b[0;34m\u001b[0m\u001b[0m\n\u001b[0;32m--> 439\u001b[0;31m                     \u001b[0;32mreturn\u001b[0m \u001b[0mself\u001b[0m\u001b[0;34m.\u001b[0m\u001b[0m__get_result\u001b[0m\u001b[0;34m(\u001b[0m\u001b[0;34m)\u001b[0m\u001b[0;34m\u001b[0m\u001b[0;34m\u001b[0m\u001b[0m\n\u001b[0m\u001b[1;32m    440\u001b[0m \u001b[0;34m\u001b[0m\u001b[0m\n\u001b[1;32m    441\u001b[0m                 \u001b[0mself\u001b[0m\u001b[0;34m.\u001b[0m\u001b[0m_condition\u001b[0m\u001b[0;34m.\u001b[0m\u001b[0mwait\u001b[0m\u001b[0;34m(\u001b[0m\u001b[0mtimeout\u001b[0m\u001b[0;34m)\u001b[0m\u001b[0;34m\u001b[0m\u001b[0;34m\u001b[0m\u001b[0m\n",
      "\u001b[0;32m~/opt/anaconda3/lib/python3.9/concurrent/futures/_base.py\u001b[0m in \u001b[0;36m__get_result\u001b[0;34m(self)\u001b[0m\n\u001b[1;32m    389\u001b[0m         \u001b[0;32mif\u001b[0m \u001b[0mself\u001b[0m\u001b[0;34m.\u001b[0m\u001b[0m_exception\u001b[0m\u001b[0;34m:\u001b[0m\u001b[0;34m\u001b[0m\u001b[0;34m\u001b[0m\u001b[0m\n\u001b[1;32m    390\u001b[0m             \u001b[0;32mtry\u001b[0m\u001b[0;34m:\u001b[0m\u001b[0;34m\u001b[0m\u001b[0;34m\u001b[0m\u001b[0m\n\u001b[0;32m--> 391\u001b[0;31m                 \u001b[0;32mraise\u001b[0m \u001b[0mself\u001b[0m\u001b[0;34m.\u001b[0m\u001b[0m_exception\u001b[0m\u001b[0;34m\u001b[0m\u001b[0;34m\u001b[0m\u001b[0m\n\u001b[0m\u001b[1;32m    392\u001b[0m             \u001b[0;32mfinally\u001b[0m\u001b[0;34m:\u001b[0m\u001b[0;34m\u001b[0m\u001b[0;34m\u001b[0m\u001b[0m\n\u001b[1;32m    393\u001b[0m                 \u001b[0;31m# Break a reference cycle with the exception in self._exception\u001b[0m\u001b[0;34m\u001b[0m\u001b[0;34m\u001b[0m\u001b[0m\n",
      "\u001b[0;32m~/opt/anaconda3/lib/python3.9/concurrent/futures/thread.py\u001b[0m in \u001b[0;36mrun\u001b[0;34m(self)\u001b[0m\n\u001b[1;32m     56\u001b[0m \u001b[0;34m\u001b[0m\u001b[0m\n\u001b[1;32m     57\u001b[0m         \u001b[0;32mtry\u001b[0m\u001b[0;34m:\u001b[0m\u001b[0;34m\u001b[0m\u001b[0;34m\u001b[0m\u001b[0m\n\u001b[0;32m---> 58\u001b[0;31m             \u001b[0mresult\u001b[0m \u001b[0;34m=\u001b[0m \u001b[0mself\u001b[0m\u001b[0;34m.\u001b[0m\u001b[0mfn\u001b[0m\u001b[0;34m(\u001b[0m\u001b[0;34m*\u001b[0m\u001b[0mself\u001b[0m\u001b[0;34m.\u001b[0m\u001b[0margs\u001b[0m\u001b[0;34m,\u001b[0m \u001b[0;34m**\u001b[0m\u001b[0mself\u001b[0m\u001b[0;34m.\u001b[0m\u001b[0mkwargs\u001b[0m\u001b[0;34m)\u001b[0m\u001b[0;34m\u001b[0m\u001b[0;34m\u001b[0m\u001b[0m\n\u001b[0m\u001b[1;32m     59\u001b[0m         \u001b[0;32mexcept\u001b[0m \u001b[0mBaseException\u001b[0m \u001b[0;32mas\u001b[0m \u001b[0mexc\u001b[0m\u001b[0;34m:\u001b[0m\u001b[0;34m\u001b[0m\u001b[0;34m\u001b[0m\u001b[0m\n\u001b[1;32m     60\u001b[0m             \u001b[0mself\u001b[0m\u001b[0;34m.\u001b[0m\u001b[0mfuture\u001b[0m\u001b[0;34m.\u001b[0m\u001b[0mset_exception\u001b[0m\u001b[0;34m(\u001b[0m\u001b[0mexc\u001b[0m\u001b[0;34m)\u001b[0m\u001b[0;34m\u001b[0m\u001b[0;34m\u001b[0m\u001b[0m\n",
      "\u001b[0;32m~/opt/anaconda3/lib/python3.9/site-packages/mp_api/client/core/client.py\u001b[0m in \u001b[0;36m_submit_request_and_process\u001b[0;34m(self, url, verify, params, use_document_model, timeout)\u001b[0m\n\u001b[1;32m    743\u001b[0m                     \u001b[0mmessage\u001b[0m \u001b[0;34m=\u001b[0m \u001b[0mstr\u001b[0m\u001b[0;34m(\u001b[0m\u001b[0mdata\u001b[0m\u001b[0;34m)\u001b[0m\u001b[0;34m\u001b[0m\u001b[0;34m\u001b[0m\u001b[0m\n\u001b[1;32m    744\u001b[0m \u001b[0;34m\u001b[0m\u001b[0m\n\u001b[0;32m--> 745\u001b[0;31m             raise MPRestError(\n\u001b[0m\u001b[1;32m    746\u001b[0m                 \u001b[0;34mf\"REST query returned with error status code {response.status_code} \"\u001b[0m\u001b[0;34m\u001b[0m\u001b[0;34m\u001b[0m\u001b[0m\n\u001b[1;32m    747\u001b[0m                 \u001b[0;34mf\"on URL {response.url} with message:\\n{message}\"\u001b[0m\u001b[0;34m\u001b[0m\u001b[0;34m\u001b[0m\u001b[0m\n",
      "\u001b[0;31mMPRestError\u001b[0m: REST query returned with error status code 400 on URL https://api.materialsproject.org/materials/summary/?_all_fields=True&formula=+market+average%29&_limit=500 with message:\nProblem processing one or more provided formulas."
     ]
    }
   ],
   "source": [
    " \n",
    "density_column = '密度'  # Name of the column to store the density values\n",
    "\n",
    "mp = MPRester(api_key)\n",
    "\n",
    "\n",
    "# Retrieve density values using the Materials Project API\n",
    "for index, row in df.iterrows():\n",
    "    material = row['材料']\n",
    "    data = mp.summary.search(formula=material)\n",
    "    if data:\n",
    "        density = data[0].get('density')\n",
    "        df.loc[index, density_column] = density\n",
    "    else:\n",
    "        print(f\"Failed to retrieve density for {material}\")\n",
    "\n",
    "# Save the updated DataFrame to Excel\n",
    "output_file = 'density.xlsx'\n",
    "df.to_excel(output_file, index=False)\n"
   ]
  },
  {
   "cell_type": "code",
   "execution_count": null,
   "id": "07642348",
   "metadata": {},
   "outputs": [],
   "source": []
  },
  {
   "cell_type": "code",
   "execution_count": null,
   "id": "d533798f",
   "metadata": {},
   "outputs": [],
   "source": []
  },
  {
   "cell_type": "code",
   "execution_count": 13,
   "id": "bea9d566",
   "metadata": {},
   "outputs": [
    {
     "ename": "ValueError",
     "evalue": "could not convert string to float: '普通硅酸盐水泥(市场平均)'",
     "output_type": "error",
     "traceback": [
      "\u001b[0;31m---------------------------------------------------------------------------\u001b[0m",
      "\u001b[0;31mValueError\u001b[0m                                Traceback (most recent call last)",
      "\u001b[0;32m/var/folders/pb/c1yrsckn6dnghx51jk5gj12r0000gn/T/ipykernel_69941/3756859102.py\u001b[0m in \u001b[0;36m<module>\u001b[0;34m\u001b[0m\n\u001b[1;32m     11\u001b[0m \u001b[0;31m# Step 3: Create and train the linear regression model\u001b[0m\u001b[0;34m\u001b[0m\u001b[0;34m\u001b[0m\u001b[0m\n\u001b[1;32m     12\u001b[0m \u001b[0mmodel\u001b[0m \u001b[0;34m=\u001b[0m \u001b[0mLinearRegression\u001b[0m\u001b[0;34m(\u001b[0m\u001b[0;34m)\u001b[0m\u001b[0;34m\u001b[0m\u001b[0;34m\u001b[0m\u001b[0m\n\u001b[0;32m---> 13\u001b[0;31m \u001b[0mmodel\u001b[0m\u001b[0;34m.\u001b[0m\u001b[0mfit\u001b[0m\u001b[0;34m(\u001b[0m\u001b[0mX\u001b[0m\u001b[0;34m,\u001b[0m \u001b[0my\u001b[0m\u001b[0;34m)\u001b[0m\u001b[0;34m\u001b[0m\u001b[0;34m\u001b[0m\u001b[0m\n\u001b[0m\u001b[1;32m     14\u001b[0m \u001b[0;34m\u001b[0m\u001b[0m\n\u001b[1;32m     15\u001b[0m \u001b[0;31m# Step 4: Predict the emission factor for a new material\u001b[0m\u001b[0;34m\u001b[0m\u001b[0;34m\u001b[0m\u001b[0m\n",
      "\u001b[0;32m~/opt/anaconda3/lib/python3.9/site-packages/sklearn/linear_model/_base.py\u001b[0m in \u001b[0;36mfit\u001b[0;34m(self, X, y, sample_weight)\u001b[0m\n\u001b[1;32m    660\u001b[0m         \u001b[0maccept_sparse\u001b[0m \u001b[0;34m=\u001b[0m \u001b[0;32mFalse\u001b[0m \u001b[0;32mif\u001b[0m \u001b[0mself\u001b[0m\u001b[0;34m.\u001b[0m\u001b[0mpositive\u001b[0m \u001b[0;32melse\u001b[0m \u001b[0;34m[\u001b[0m\u001b[0;34m\"csr\"\u001b[0m\u001b[0;34m,\u001b[0m \u001b[0;34m\"csc\"\u001b[0m\u001b[0;34m,\u001b[0m \u001b[0;34m\"coo\"\u001b[0m\u001b[0;34m]\u001b[0m\u001b[0;34m\u001b[0m\u001b[0;34m\u001b[0m\u001b[0m\n\u001b[1;32m    661\u001b[0m \u001b[0;34m\u001b[0m\u001b[0m\n\u001b[0;32m--> 662\u001b[0;31m         X, y = self._validate_data(\n\u001b[0m\u001b[1;32m    663\u001b[0m             \u001b[0mX\u001b[0m\u001b[0;34m,\u001b[0m \u001b[0my\u001b[0m\u001b[0;34m,\u001b[0m \u001b[0maccept_sparse\u001b[0m\u001b[0;34m=\u001b[0m\u001b[0maccept_sparse\u001b[0m\u001b[0;34m,\u001b[0m \u001b[0my_numeric\u001b[0m\u001b[0;34m=\u001b[0m\u001b[0;32mTrue\u001b[0m\u001b[0;34m,\u001b[0m \u001b[0mmulti_output\u001b[0m\u001b[0;34m=\u001b[0m\u001b[0;32mTrue\u001b[0m\u001b[0;34m\u001b[0m\u001b[0;34m\u001b[0m\u001b[0m\n\u001b[1;32m    664\u001b[0m         )\n",
      "\u001b[0;32m~/opt/anaconda3/lib/python3.9/site-packages/sklearn/base.py\u001b[0m in \u001b[0;36m_validate_data\u001b[0;34m(self, X, y, reset, validate_separately, **check_params)\u001b[0m\n\u001b[1;32m    579\u001b[0m                 \u001b[0my\u001b[0m \u001b[0;34m=\u001b[0m \u001b[0mcheck_array\u001b[0m\u001b[0;34m(\u001b[0m\u001b[0my\u001b[0m\u001b[0;34m,\u001b[0m \u001b[0;34m**\u001b[0m\u001b[0mcheck_y_params\u001b[0m\u001b[0;34m)\u001b[0m\u001b[0;34m\u001b[0m\u001b[0;34m\u001b[0m\u001b[0m\n\u001b[1;32m    580\u001b[0m             \u001b[0;32melse\u001b[0m\u001b[0;34m:\u001b[0m\u001b[0;34m\u001b[0m\u001b[0;34m\u001b[0m\u001b[0m\n\u001b[0;32m--> 581\u001b[0;31m                 \u001b[0mX\u001b[0m\u001b[0;34m,\u001b[0m \u001b[0my\u001b[0m \u001b[0;34m=\u001b[0m \u001b[0mcheck_X_y\u001b[0m\u001b[0;34m(\u001b[0m\u001b[0mX\u001b[0m\u001b[0;34m,\u001b[0m \u001b[0my\u001b[0m\u001b[0;34m,\u001b[0m \u001b[0;34m**\u001b[0m\u001b[0mcheck_params\u001b[0m\u001b[0;34m)\u001b[0m\u001b[0;34m\u001b[0m\u001b[0;34m\u001b[0m\u001b[0m\n\u001b[0m\u001b[1;32m    582\u001b[0m             \u001b[0mout\u001b[0m \u001b[0;34m=\u001b[0m \u001b[0mX\u001b[0m\u001b[0;34m,\u001b[0m \u001b[0my\u001b[0m\u001b[0;34m\u001b[0m\u001b[0;34m\u001b[0m\u001b[0m\n\u001b[1;32m    583\u001b[0m \u001b[0;34m\u001b[0m\u001b[0m\n",
      "\u001b[0;32m~/opt/anaconda3/lib/python3.9/site-packages/sklearn/utils/validation.py\u001b[0m in \u001b[0;36mcheck_X_y\u001b[0;34m(X, y, accept_sparse, accept_large_sparse, dtype, order, copy, force_all_finite, ensure_2d, allow_nd, multi_output, ensure_min_samples, ensure_min_features, y_numeric, estimator)\u001b[0m\n\u001b[1;32m    962\u001b[0m         \u001b[0;32mraise\u001b[0m \u001b[0mValueError\u001b[0m\u001b[0;34m(\u001b[0m\u001b[0;34m\"y cannot be None\"\u001b[0m\u001b[0;34m)\u001b[0m\u001b[0;34m\u001b[0m\u001b[0;34m\u001b[0m\u001b[0m\n\u001b[1;32m    963\u001b[0m \u001b[0;34m\u001b[0m\u001b[0m\n\u001b[0;32m--> 964\u001b[0;31m     X = check_array(\n\u001b[0m\u001b[1;32m    965\u001b[0m         \u001b[0mX\u001b[0m\u001b[0;34m,\u001b[0m\u001b[0;34m\u001b[0m\u001b[0;34m\u001b[0m\u001b[0m\n\u001b[1;32m    966\u001b[0m         \u001b[0maccept_sparse\u001b[0m\u001b[0;34m=\u001b[0m\u001b[0maccept_sparse\u001b[0m\u001b[0;34m,\u001b[0m\u001b[0;34m\u001b[0m\u001b[0;34m\u001b[0m\u001b[0m\n",
      "\u001b[0;32m~/opt/anaconda3/lib/python3.9/site-packages/sklearn/utils/validation.py\u001b[0m in \u001b[0;36mcheck_array\u001b[0;34m(array, accept_sparse, accept_large_sparse, dtype, order, copy, force_all_finite, ensure_2d, allow_nd, ensure_min_samples, ensure_min_features, estimator)\u001b[0m\n\u001b[1;32m    744\u001b[0m                     \u001b[0marray\u001b[0m \u001b[0;34m=\u001b[0m \u001b[0marray\u001b[0m\u001b[0;34m.\u001b[0m\u001b[0mastype\u001b[0m\u001b[0;34m(\u001b[0m\u001b[0mdtype\u001b[0m\u001b[0;34m,\u001b[0m \u001b[0mcasting\u001b[0m\u001b[0;34m=\u001b[0m\u001b[0;34m\"unsafe\"\u001b[0m\u001b[0;34m,\u001b[0m \u001b[0mcopy\u001b[0m\u001b[0;34m=\u001b[0m\u001b[0;32mFalse\u001b[0m\u001b[0;34m)\u001b[0m\u001b[0;34m\u001b[0m\u001b[0;34m\u001b[0m\u001b[0m\n\u001b[1;32m    745\u001b[0m                 \u001b[0;32melse\u001b[0m\u001b[0;34m:\u001b[0m\u001b[0;34m\u001b[0m\u001b[0;34m\u001b[0m\u001b[0m\n\u001b[0;32m--> 746\u001b[0;31m                     \u001b[0marray\u001b[0m \u001b[0;34m=\u001b[0m \u001b[0mnp\u001b[0m\u001b[0;34m.\u001b[0m\u001b[0masarray\u001b[0m\u001b[0;34m(\u001b[0m\u001b[0marray\u001b[0m\u001b[0;34m,\u001b[0m \u001b[0morder\u001b[0m\u001b[0;34m=\u001b[0m\u001b[0morder\u001b[0m\u001b[0;34m,\u001b[0m \u001b[0mdtype\u001b[0m\u001b[0;34m=\u001b[0m\u001b[0mdtype\u001b[0m\u001b[0;34m)\u001b[0m\u001b[0;34m\u001b[0m\u001b[0;34m\u001b[0m\u001b[0m\n\u001b[0m\u001b[1;32m    747\u001b[0m             \u001b[0;32mexcept\u001b[0m \u001b[0mComplexWarning\u001b[0m \u001b[0;32mas\u001b[0m \u001b[0mcomplex_warning\u001b[0m\u001b[0;34m:\u001b[0m\u001b[0;34m\u001b[0m\u001b[0;34m\u001b[0m\u001b[0m\n\u001b[1;32m    748\u001b[0m                 raise ValueError(\n",
      "\u001b[0;31mValueError\u001b[0m: could not convert string to float: '普通硅酸盐水泥(市场平均)'"
     ]
    }
   ],
   "source": [
    "import pandas as pd\n",
    "from sklearn.linear_model import LinearRegression\n",
    "\n",
    "# Step 1: Read the data from Excel\n",
    "df = pd.read_excel('Carbon Emission Factor Database.xlsx', sheet_name='建筑材料(Building Materials)')\n",
    "\n",
    "# Step 2: Extract the input features (X) and target variable (y)\n",
    "X = df['材料'].values.reshape(-1, 1)\n",
    "y = df['碳排放因子'].values\n",
    "\n",
    "# Step 3: Create and train the linear regression model\n",
    "model = LinearRegression()\n",
    "model.fit(X, y)\n",
    "\n",
    "# Step 4: Predict the emission factor for a new material\n",
    "new_material = [['夯土']]\n",
    "predicted_emission = model.predict(new_material)\n",
    "\n",
    "print('Predicted emission factor:', predicted_emission)\n"
   ]
  },
  {
   "cell_type": "code",
   "execution_count": null,
   "id": "573e5cd9",
   "metadata": {},
   "outputs": [],
   "source": []
  },
  {
   "cell_type": "code",
   "execution_count": null,
   "id": "e3455237",
   "metadata": {},
   "outputs": [],
   "source": []
  },
  {
   "cell_type": "code",
   "execution_count": null,
   "id": "eed4bec1",
   "metadata": {},
   "outputs": [],
   "source": []
  },
  {
   "cell_type": "code",
   "execution_count": null,
   "id": "c98a00a5",
   "metadata": {},
   "outputs": [],
   "source": []
  },
  {
   "cell_type": "code",
   "execution_count": null,
   "id": "bd1c3cec",
   "metadata": {},
   "outputs": [],
   "source": []
  },
  {
   "cell_type": "code",
   "execution_count": null,
   "id": "11bd6d51",
   "metadata": {},
   "outputs": [],
   "source": []
  },
  {
   "cell_type": "code",
   "execution_count": null,
   "id": "46cc35d3",
   "metadata": {},
   "outputs": [],
   "source": []
  },
  {
   "cell_type": "code",
   "execution_count": null,
   "id": "1f998427",
   "metadata": {},
   "outputs": [],
   "source": []
  },
  {
   "cell_type": "code",
   "execution_count": null,
   "id": "bbf24f4e",
   "metadata": {},
   "outputs": [],
   "source": []
  },
  {
   "cell_type": "code",
   "execution_count": null,
   "id": "636c4648",
   "metadata": {},
   "outputs": [],
   "source": []
  },
  {
   "cell_type": "code",
   "execution_count": null,
   "id": "f5961690",
   "metadata": {},
   "outputs": [],
   "source": []
  },
  {
   "cell_type": "code",
   "execution_count": null,
   "id": "f1e2798f",
   "metadata": {},
   "outputs": [],
   "source": []
  },
  {
   "cell_type": "code",
   "execution_count": null,
   "id": "d858fe95",
   "metadata": {},
   "outputs": [],
   "source": []
  }
 ],
 "metadata": {
  "kernelspec": {
   "display_name": "Python 3 (ipykernel)",
   "language": "python",
   "name": "python3"
  },
  "language_info": {
   "codemirror_mode": {
    "name": "ipython",
    "version": 3
   },
   "file_extension": ".py",
   "mimetype": "text/x-python",
   "name": "python",
   "nbconvert_exporter": "python",
   "pygments_lexer": "ipython3",
   "version": "3.9.13"
  }
 },
 "nbformat": 4,
 "nbformat_minor": 5
}
