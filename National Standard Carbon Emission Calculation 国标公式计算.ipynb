{
 "cells": [
  {
   "cell_type": "code",
   "execution_count": 10,
   "id": "7d83145f",
   "metadata": {},
   "outputs": [
    {
     "name": "stdout",
     "output_type": "stream",
     "text": [
      "Requirement already satisfied: pandas in /Users/wangxinyi/anaconda3/lib/python3.10/site-packages (1.5.3)\r\n",
      "Requirement already satisfied: python-dateutil>=2.8.1 in /Users/wangxinyi/anaconda3/lib/python3.10/site-packages (from pandas) (2.8.2)\r\n",
      "Requirement already satisfied: pytz>=2020.1 in /Users/wangxinyi/anaconda3/lib/python3.10/site-packages (from pandas) (2022.7)\r\n",
      "Requirement already satisfied: numpy>=1.21.0 in /Users/wangxinyi/anaconda3/lib/python3.10/site-packages (from pandas) (1.23.5)\r\n",
      "Requirement already satisfied: six>=1.5 in /Users/wangxinyi/anaconda3/lib/python3.10/site-packages (from python-dateutil>=2.8.1->pandas) (1.16.0)\r\n"
     ]
    }
   ],
   "source": [
    "!pip install pandas"
   ]
  },
  {
   "cell_type": "code",
   "execution_count": 11,
   "id": "9bd6f66c",
   "metadata": {},
   "outputs": [],
   "source": [
    "import pandas as pd"
   ]
  },
  {
   "cell_type": "code",
   "execution_count": 21,
   "id": "dd42bdae",
   "metadata": {},
   "outputs": [
    {
     "name": "stdout",
     "output_type": "stream",
     "text": [
      "    材料 单位热值碳排放因子        单位  碳排放因子 单位.1  单位热值含碳量   单位.2  碳氧化率 单位.3 材料类型  细分类型  \\\n",
      "0  无烟煤     94.44  t CO2/TJ    NaN  NaN     27.4  tC/TJ  94.0    %   能源  固体燃料   \n",
      "1   烟煤        89  t CO2/TJ    NaN  NaN     26.1  tC/TJ  93.0    %   能源  固体燃料   \n",
      "2   褐煤     98.56  t CO2/TJ    NaN  NaN     28.0  tC/TJ  96.0    %   能源  固体燃料   \n",
      "3  炼焦煤     91.27  t CO2/TJ    NaN  NaN     25.4  tC/TJ  98.0    %   能源  固体燃料   \n",
      "4   型煤    110.88  t CO2/TJ    NaN  NaN     33.6  tC/TJ  90.0    %   能源  固体燃料   \n",
      "\n",
      "   地区    年份                      数据来源  \\\n",
      "0  中国  2019  GBT-51366-2019-建筑碳排放计算标准   \n",
      "1  中国  2019  GBT-51366-2019-建筑碳排放计算标准   \n",
      "2  中国  2019  GBT-51366-2019-建筑碳排放计算标准   \n",
      "3  中国  2019  GBT-51366-2019-建筑碳排放计算标准   \n",
      "4  中国  2019  GBT-51366-2019-建筑碳排放计算标准   \n",
      "\n",
      "                                              数据来源地址 Data Provider Link  \n",
      "0  http://zjj.panzhihua.gov.cn/ztzl/szsnjnljxc/js...           NaN  NaN  \n",
      "1  http://zjj.panzhihua.gov.cn/ztzl/szsnjnljxc/js...           NaN  NaN  \n",
      "2  http://zjj.panzhihua.gov.cn/ztzl/szsnjnljxc/js...           NaN  NaN  \n",
      "3  http://zjj.panzhihua.gov.cn/ztzl/szsnjnljxc/js...           NaN  NaN  \n",
      "4  http://zjj.panzhihua.gov.cn/ztzl/szsnjnljxc/js...           NaN  NaN  \n"
     ]
    }
   ],
   "source": [
    "\n",
    "# Read all sheets from the Excel file\n",
    "xlsx = pd.read_excel('Carbon Emission Factor Database.xlsx', sheet_name=None)\n",
    "\n",
    "# Access each DataFrame using the sheet name\n",
    "df1 = xlsx['能源(Energy Sources)']\n",
    "df2 = xlsx['建筑材料(Building Materials)']\n",
    "df3 = xlsx['建材运输(Material Transportation)']\n",
    "df4 = xlsx['碳汇(Carbon Sink)']\n",
    "\n",
    "print(df1.head())"
   ]
  },
  {
   "cell_type": "code",
   "execution_count": null,
   "id": "48586df0",
   "metadata": {},
   "outputs": [],
   "source": []
  },
  {
   "cell_type": "code",
   "execution_count": null,
   "id": "83e84b41",
   "metadata": {},
   "outputs": [],
   "source": []
  }
 ],
 "metadata": {
  "kernelspec": {
   "display_name": "Python 3 (ipykernel)",
   "language": "python",
   "name": "python3"
  },
  "language_info": {
   "codemirror_mode": {
    "name": "ipython",
    "version": 3
   },
   "file_extension": ".py",
   "mimetype": "text/x-python",
   "name": "python",
   "nbconvert_exporter": "python",
   "pygments_lexer": "ipython3",
   "version": "3.9.13"
  }
 },
 "nbformat": 4,
 "nbformat_minor": 5
}
