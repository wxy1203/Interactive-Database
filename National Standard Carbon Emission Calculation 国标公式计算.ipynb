{
 "cells": [
  {
   "cell_type": "code",
   "execution_count": 10,
   "id": "b33bbdb2",
   "metadata": {},
   "outputs": [
    {
     "name": "stdout",
     "output_type": "stream",
     "text": [
      "Requirement already satisfied: pandas in /Users/wangxinyi/anaconda3/lib/python3.10/site-packages (1.5.3)\r\n",
      "Requirement already satisfied: python-dateutil>=2.8.1 in /Users/wangxinyi/anaconda3/lib/python3.10/site-packages (from pandas) (2.8.2)\r\n",
      "Requirement already satisfied: pytz>=2020.1 in /Users/wangxinyi/anaconda3/lib/python3.10/site-packages (from pandas) (2022.7)\r\n",
      "Requirement already satisfied: numpy>=1.21.0 in /Users/wangxinyi/anaconda3/lib/python3.10/site-packages (from pandas) (1.23.5)\r\n",
      "Requirement already satisfied: six>=1.5 in /Users/wangxinyi/anaconda3/lib/python3.10/site-packages (from python-dateutil>=2.8.1->pandas) (1.16.0)\r\n"
     ]
    }
   ],
   "source": [
    "!pip install pandas"
   ]
  },
  {
   "cell_type": "code",
   "execution_count": 22,
   "id": "4ef369b2",
   "metadata": {},
   "outputs": [],
   "source": [
    "import pandas as pd\n",
    "import numpy as np"
   ]
  },
  {
   "cell_type": "code",
   "execution_count": 23,
   "id": "d2eaee2c",
   "metadata": {},
   "outputs": [
    {
     "name": "stdout",
     "output_type": "stream",
     "text": [
      "    材料 单位热值碳排放因子        单位  碳排放因子 单位.1  单位热值含碳量   单位.2  碳氧化率 单位.3 材料类型  细分类型  \\\n",
      "0  无烟煤     94.44  t CO2/TJ    NaN  NaN     27.4  tC/TJ  94.0    %   能源  固体燃料   \n",
      "1   烟煤        89  t CO2/TJ    NaN  NaN     26.1  tC/TJ  93.0    %   能源  固体燃料   \n",
      "2   褐煤     98.56  t CO2/TJ    NaN  NaN     28.0  tC/TJ  96.0    %   能源  固体燃料   \n",
      "3  炼焦煤     91.27  t CO2/TJ    NaN  NaN     25.4  tC/TJ  98.0    %   能源  固体燃料   \n",
      "4   型煤    110.88  t CO2/TJ    NaN  NaN     33.6  tC/TJ  90.0    %   能源  固体燃料   \n",
      "\n",
      "   地区    年份                      数据来源  \\\n",
      "0  中国  2019  GBT-51366-2019-建筑碳排放计算标准   \n",
      "1  中国  2019  GBT-51366-2019-建筑碳排放计算标准   \n",
      "2  中国  2019  GBT-51366-2019-建筑碳排放计算标准   \n",
      "3  中国  2019  GBT-51366-2019-建筑碳排放计算标准   \n",
      "4  中国  2019  GBT-51366-2019-建筑碳排放计算标准   \n",
      "\n",
      "                                              数据来源地址 Data Provider Link  \n",
      "0  http://zjj.panzhihua.gov.cn/ztzl/szsnjnljxc/js...           NaN  NaN  \n",
      "1  http://zjj.panzhihua.gov.cn/ztzl/szsnjnljxc/js...           NaN  NaN  \n",
      "2  http://zjj.panzhihua.gov.cn/ztzl/szsnjnljxc/js...           NaN  NaN  \n",
      "3  http://zjj.panzhihua.gov.cn/ztzl/szsnjnljxc/js...           NaN  NaN  \n",
      "4  http://zjj.panzhihua.gov.cn/ztzl/szsnjnljxc/js...           NaN  NaN  \n"
     ]
    }
   ],
   "source": [
    "\n",
    "# Read all sheets from the Excel file\n",
    "xlsx = pd.read_excel('Carbon Emission Factor Database.xlsx', sheet_name=None)\n",
    "\n",
    "# Access each DataFrame using the sheet name\n",
    "df1 = xlsx['能源(Energy Sources)']\n",
    "df2 = xlsx['建筑材料(Building Materials)']\n",
    "df3 = xlsx['建材运输(Material Transportation)']\n",
    "df4 = xlsx['碳汇(Carbon Sink)']\n",
    "\n",
    "print(df1.head())"
   ]
  },
  {
   "cell_type": "code",
   "execution_count": null,
   "id": "472f96fb",
   "metadata": {},
   "outputs": [],
   "source": [
    "## 运行"
   ]
  },
  {
   "cell_type": "code",
   "execution_count": null,
   "id": "a78d9e9f",
   "metadata": {},
   "outputs": [],
   "source": []
  },
  {
   "cell_type": "code",
   "execution_count": 77,
   "id": "4ffd07cf",
   "metadata": {},
   "outputs": [],
   "source": [
    "## 建造 Construction \n",
    "\n",
    "## Ejz : array of energy use of different material in Construction period\n",
    "## EF : array of carbon emission factor corresponding the Ejz materials\n",
    "## A : Area of Construction\n",
    "## Cjz : 建筑建造阶段单位建筑面积的碳排放量\n",
    "def Construction(Ejz, EF, A):\n",
    "    Ejz_i = np.array(Ejz)\n",
    "    EF_i = np.array(EF)\n",
    "    \n",
    "    Cjz = np.sum(Ejz_i * EF_i) / A\n",
    "    print(\"建筑建造阶段单位建筑面积的碳排放量是：\" + str(Cjz) + \" KgCO\\u2082\"+ \"/m\\u00B2\")\n",
    "    return Cjz\n",
    "\n",
    "## 施工工序能耗估法 -> 能源总用量\n",
    "\n",
    "## Qfx : array of i 项目工程量\n",
    "## fx : array of i 项目耗能系数\n",
    "## Efx : 分部分项工程总能源 in kWh or kg\n",
    "def Efx(Qfx, fx):\n",
    "    Qfx_i = np.array(Qfx)\n",
    "    fx_i = np.array(fx)\n",
    "    \n",
    "    Efx = np.sum(Qfx_i * fx_i)\n",
    "    print(\"分部分项工程总能源用量：\" + str(Efx) + \"kWh\")\n",
    "    return Efx\n",
    " \n",
    "    \n",
    "## fx : array of i 项目耗能系数\n",
    "## i, j : i 项目 j 施工机械台\n",
    "## Tij : i * j matrix 第i个项目第j种施工机械台消耗量 （台班)\n",
    "## Rj : i * j matrix 附录C 第i个项目第j机械台能源用量 （kWh/台班)\n",
    "## Ejj_i : array with length i 第i个项目中 小型施工机消耗\n",
    "def fx(i, j, Tij, Rj, Ejj_i):  \n",
    "  \n",
    "    fx = np.sum(Tij * Rj, axis=1)\n",
    "    ## print(np.array(fx))\n",
    "    Ejj = np.array(Ejj_i)\n",
    "    ## print(Ejj)\n",
    "    fx_i = np.array(fx) + Ejj\n",
    "    \n",
    "    print (fx_i.shape)\n",
    "    return fx_i\n",
    "    \n",
    "    \n"
   ]
  },
  {
   "cell_type": "code",
   "execution_count": 78,
   "id": "5c6937c0",
   "metadata": {},
   "outputs": [
    {
     "name": "stdout",
     "output_type": "stream",
     "text": [
      "(3,)\n",
      "分部分项工程总能源用量：30.0kWh\n",
      "30.0\n"
     ]
    }
   ],
   "source": [
    "print(Efx([2,2,2], fx(3,3,np.ones((3,3)), np.ones((3,3)), [2,2,2])))"
   ]
  },
  {
   "cell_type": "code",
   "execution_count": 74,
   "id": "9499a223",
   "metadata": {
    "scrolled": true
   },
   "outputs": [
    {
     "name": "stdout",
     "output_type": "stream",
     "text": [
      "[3. 3. 3.]\n",
      "[2 2 2]\n",
      "(3,)\n",
      "None\n"
     ]
    }
   ],
   "source": [
    "print(fx(3,3,np.ones((3,3)), np.ones((3,3)), [2,2,2]))"
   ]
  },
  {
   "cell_type": "code",
   "execution_count": 67,
   "id": "b091aaa6",
   "metadata": {},
   "outputs": [
    {
     "name": "stdout",
     "output_type": "stream",
     "text": [
      "建筑建造阶段单位建筑面积的碳排放量是：6.0 KgCO₂/m²\n",
      "6.0\n"
     ]
    }
   ],
   "source": [
    " print(Construction([1,2,3], [2,2,2], 2))\n",
    "## print('H\\u2082O')\n"
   ]
  },
  {
   "cell_type": "code",
   "execution_count": null,
   "id": "d0d40aa4",
   "metadata": {},
   "outputs": [],
   "source": []
  },
  {
   "cell_type": "code",
   "execution_count": null,
   "id": "2e2d0efe",
   "metadata": {},
   "outputs": [],
   "source": []
  },
  {
   "cell_type": "code",
   "execution_count": null,
   "id": "fb82927d",
   "metadata": {},
   "outputs": [],
   "source": []
  }
 ],
 "metadata": {
  "kernelspec": {
   "display_name": "Python 3 (ipykernel)",
   "language": "python",
   "name": "python3"
  },
  "language_info": {
   "codemirror_mode": {
    "name": "ipython",
    "version": 3
   },
   "file_extension": ".py",
   "mimetype": "text/x-python",
   "name": "python",
   "nbconvert_exporter": "python",
   "pygments_lexer": "ipython3",
   "version": "3.9.13"
  }
 },
 "nbformat": 4,
 "nbformat_minor": 5
}
