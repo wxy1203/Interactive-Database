{
 "cells": [
  {
   "cell_type": "code",
   "execution_count": 115,
   "id": "3267d5d2",
   "metadata": {
    "scrolled": true
   },
   "outputs": [
    {
     "name": "stdout",
     "output_type": "stream",
     "text": [
      "Requirement already satisfied: pandas in /Users/wangxinyi/anaconda3/lib/python3.10/site-packages (1.5.3)\r\n",
      "Requirement already satisfied: python-dateutil>=2.8.1 in /Users/wangxinyi/anaconda3/lib/python3.10/site-packages (from pandas) (2.8.2)\r\n",
      "Requirement already satisfied: pytz>=2020.1 in /Users/wangxinyi/anaconda3/lib/python3.10/site-packages (from pandas) (2022.7)\r\n",
      "Requirement already satisfied: numpy>=1.21.0 in /Users/wangxinyi/anaconda3/lib/python3.10/site-packages (from pandas) (1.23.5)\r\n",
      "Requirement already satisfied: six>=1.5 in /Users/wangxinyi/anaconda3/lib/python3.10/site-packages (from python-dateutil>=2.8.1->pandas) (1.16.0)\r\n"
     ]
    }
   ],
   "source": [
    "!pip install pandas"
   ]
  },
  {
   "cell_type": "code",
   "execution_count": 116,
   "id": "541b8b85",
   "metadata": {},
   "outputs": [],
   "source": [
    "import pandas as pd\n",
    "import numpy as np"
   ]
  },
  {
   "cell_type": "code",
   "execution_count": 117,
   "id": "3c470fba",
   "metadata": {},
   "outputs": [
    {
     "name": "stdout",
     "output_type": "stream",
     "text": [
      "    材料 单位热值碳排放因子        单位  碳排放因子 单位.1  单位热值含碳量   单位.2  碳氧化率 单位.3 材料类型  细分类型  \\\n",
      "0  无烟煤     94.44  t CO2/TJ    NaN  NaN     27.4  tC/TJ  94.0    %   能源  固体燃料   \n",
      "1   烟煤        89  t CO2/TJ    NaN  NaN     26.1  tC/TJ  93.0    %   能源  固体燃料   \n",
      "2   褐煤     98.56  t CO2/TJ    NaN  NaN     28.0  tC/TJ  96.0    %   能源  固体燃料   \n",
      "3  炼焦煤     91.27  t CO2/TJ    NaN  NaN     25.4  tC/TJ  98.0    %   能源  固体燃料   \n",
      "4   型煤    110.88  t CO2/TJ    NaN  NaN     33.6  tC/TJ  90.0    %   能源  固体燃料   \n",
      "\n",
      "   地区    年份                      数据来源  \\\n",
      "0  中国  2019  GBT-51366-2019-建筑碳排放计算标准   \n",
      "1  中国  2019  GBT-51366-2019-建筑碳排放计算标准   \n",
      "2  中国  2019  GBT-51366-2019-建筑碳排放计算标准   \n",
      "3  中国  2019  GBT-51366-2019-建筑碳排放计算标准   \n",
      "4  中国  2019  GBT-51366-2019-建筑碳排放计算标准   \n",
      "\n",
      "                                              数据来源地址 Data Provider Link  \n",
      "0  http://zjj.panzhihua.gov.cn/ztzl/szsnjnljxc/js...           NaN  NaN  \n",
      "1  http://zjj.panzhihua.gov.cn/ztzl/szsnjnljxc/js...           NaN  NaN  \n",
      "2  http://zjj.panzhihua.gov.cn/ztzl/szsnjnljxc/js...           NaN  NaN  \n",
      "3  http://zjj.panzhihua.gov.cn/ztzl/szsnjnljxc/js...           NaN  NaN  \n",
      "4  http://zjj.panzhihua.gov.cn/ztzl/szsnjnljxc/js...           NaN  NaN  \n"
     ]
    }
   ],
   "source": [
    "## 读取表格数据\n",
    "## Read all sheets from the Excel file\n",
    "xlsx = pd.read_excel('Carbon Emission Factor Database.xlsx', sheet_name=None)\n",
    "\n",
    "## Access each DataFrame using the sheet name\n",
    "df1 = xlsx['能源(Energy Sources)']\n",
    "df2 = xlsx['建筑材料(Building Materials)']\n",
    "df3 = xlsx['建材运输(Material Transportation)']\n",
    "df4 = xlsx['碳汇(Carbon Sink)']\n",
    "\n",
    "print(df1.head())"
   ]
  },
  {
   "cell_type": "code",
   "execution_count": null,
   "id": "175e63ca",
   "metadata": {},
   "outputs": [],
   "source": [
    "## 运行阶段碳排放计算"
   ]
  },
  {
   "cell_type": "code",
   "execution_count": null,
   "id": "39a5d03c",
   "metadata": {},
   "outputs": [],
   "source": []
  },
  {
   "cell_type": "code",
   "execution_count": null,
   "id": "abdd73f0",
   "metadata": {},
   "outputs": [],
   "source": []
  },
  {
   "cell_type": "code",
   "execution_count": null,
   "id": "f610a3d0",
   "metadata": {},
   "outputs": [],
   "source": []
  },
  {
   "cell_type": "code",
   "execution_count": null,
   "id": "68bbfc00",
   "metadata": {},
   "outputs": [],
   "source": []
  },
  {
   "cell_type": "code",
   "execution_count": null,
   "id": "ef5db608",
   "metadata": {},
   "outputs": [],
   "source": []
  },
  {
   "cell_type": "code",
   "execution_count": null,
   "id": "815e9ea9",
   "metadata": {},
   "outputs": [],
   "source": [
    "## 建造阶段碳排放计算 Construction Period Carbon Emission Calculation"
   ]
  },
  {
   "cell_type": "code",
   "execution_count": null,
   "id": "74a4a9cd",
   "metadata": {},
   "outputs": [],
   "source": [
    "## Cjz : 建筑建造阶段单位建筑面积的碳排放量\n",
    "\n",
    "## Ejz : array of energy use of different material in Construction period\n",
    "## EF : array of carbon emission factor corresponding the Ejz materials\n",
    "## A : Area of Construction\n",
    "def Construction(Ejz, EF, A):\n",
    "    Ejz_i = np.array(Ejz)\n",
    "    EF_i = np.array(EF)\n",
    "    \n",
    "    Cjz = np.sum(Ejz_i * EF_i) / A\n",
    "    print(\"建筑建造阶段单位建筑面积的碳排放量是：\" + str(Cjz) + \" KgCO\\u2082\"+ \"/m\\u00B2\")\n",
    "    return Cjz"
   ]
  },
  {
   "cell_type": "code",
   "execution_count": 87,
   "id": "16a116df",
   "metadata": {},
   "outputs": [],
   "source": [
    "## Ejz : 建筑建造阶段总能源用量\n",
    "\n",
    "## 施工工序能耗估法 -> 能源总用量\n",
    "\n",
    "## Efx : 分部分项工程总能源 in kWh or kg\n",
    "## Qfx : array of i 项目工程量\n",
    "## fx : array of i 项目耗能系数\n",
    "def Efx(Qfx, fx):\n",
    "    Qfx_i = np.array(Qfx)\n",
    "    fx_i = np.array(fx)\n",
    "    \n",
    "    Efx = np.sum(Qfx_i * fx_i)\n",
    "    print(\"分部分项工程总能源用量：\" + str(Efx) + \" kWh或kg\")\n",
    "    return Efx\n",
    "   \n",
    "## fx : array of i 项目耗能系数\n",
    "## i, j : i 项目 j 施工机械台\n",
    "## Tij : i * j matrix 第i个项目第j种施工机械台消耗量 （台班)\n",
    "## Rj : i * j matrix 附录C 第i个项目第j机械台能源用量 （kWh/台班)\n",
    "## Ejj_i : array with length i 第i个项目中 小型施工机消耗\n",
    "def fx(i, j, Tij, Rj, Ejj_i):  \n",
    "  \n",
    "    fx = np.sum(Tij * Rj, axis=1)\n",
    "    ## print(np.array(fx))\n",
    "    Ejj = np.array(Ejj_i)\n",
    "    ## print(Ejj)\n",
    "    fx_i = np.array(fx) + Ejj\n",
    "    \n",
    "    ## print (fx_i.shape)\n",
    "    return fx_i\n",
    " \n",
    "\n",
    "## Ecs : 措施项目总能源用量 （kWh）\n",
    "## Qcs : array of i 项目工程量\n",
    "## fcs : array of i 项目耗能系数\n",
    "def Ecs(Qcs, fcs):\n",
    "    Qcs_i = np.array(Qcs)\n",
    "    fcs_i = np.array(fcs)\n",
    "    \n",
    "    Ecs = np.sum(Qcs_i * fcs_i)\n",
    "    print(\"措施项目总能源用量：\" + str(Ecs) + \" kWh或kg\")\n",
    "    return Ecs\n",
    "   \n",
    "## fcs : array of i 项目耗能系数\n",
    "## i, j : i 项目 j 施工机械台\n",
    "## Tij : i * j matrix 第i个项目第j种施工机械台消耗量 （台班)\n",
    "## Rj : i * j matrix 附录C 第i个项目第j机械台能源用量 （kWh/台班)\n",
    "def fcs(i, j, Tij, Rj):  \n",
    "  \n",
    "    fcs = np.sum(Tij * Rj, axis=1)\n",
    "    ## print(np.array(fx))\n",
    "    fcs_i = np.array(fcs)\n",
    "    ## print (fx_i.shape)\n",
    "    return fcs_i\n",
    "\n",
    "## Ejz : 建筑建造阶段总能源用量\n",
    "def Ejz(Efx, Ecs):\n",
    "    \n",
    "    Ejz = Efx + Ecs\n",
    "    print(\"建筑建造阶段总能源用量：\" + str(Ejz) + \" kWh或kg\")\n",
    "    return Ejz"
   ]
  },
  {
   "cell_type": "code",
   "execution_count": 88,
   "id": "189150b3",
   "metadata": {
    "scrolled": true
   },
   "outputs": [
    {
     "name": "stdout",
     "output_type": "stream",
     "text": [
      "分部分项工程总能源用量：30.0 kWh\n",
      "30.0\n"
     ]
    }
   ],
   "source": [
    "print(Efx([2,2,2], fx(3,3,np.ones((3,3)), np.ones((3,3)), [2,2,2])))"
   ]
  },
  {
   "cell_type": "code",
   "execution_count": 89,
   "id": "5ff1d52e",
   "metadata": {},
   "outputs": [
    {
     "name": "stdout",
     "output_type": "stream",
     "text": [
      "措施项目总能源用量：18.0 kWh\n",
      "18.0\n"
     ]
    }
   ],
   "source": [
    "print(Ecs([2,2,2], fcs(3,3,np.ones((3,3)), np.ones((3,3)))))"
   ]
  },
  {
   "cell_type": "code",
   "execution_count": 90,
   "id": "7d115835",
   "metadata": {
    "scrolled": true
   },
   "outputs": [
    {
     "name": "stdout",
     "output_type": "stream",
     "text": [
      "[5. 5. 5.]\n"
     ]
    }
   ],
   "source": [
    "print(fx(3,3,np.ones((3,3)), np.ones((3,3)), [2,2,2]))"
   ]
  },
  {
   "cell_type": "code",
   "execution_count": 91,
   "id": "52234492",
   "metadata": {
    "scrolled": true
   },
   "outputs": [
    {
     "name": "stdout",
     "output_type": "stream",
     "text": [
      "建筑建造阶段单位建筑面积的碳排放量是：6.0 KgCO₂/m²\n",
      "6.0\n"
     ]
    }
   ],
   "source": [
    " print(Construction([1,2,3], [2,2,2], 2))\n",
    "## print('H\\u2082O')"
   ]
  },
  {
   "cell_type": "code",
   "execution_count": null,
   "id": "20db694f",
   "metadata": {},
   "outputs": [],
   "source": []
  },
  {
   "cell_type": "code",
   "execution_count": null,
   "id": "fa26f5a1",
   "metadata": {},
   "outputs": [],
   "source": []
  },
  {
   "cell_type": "code",
   "execution_count": null,
   "id": "b2ab5264",
   "metadata": {},
   "outputs": [],
   "source": []
  },
  {
   "cell_type": "code",
   "execution_count": null,
   "id": "ed6429df",
   "metadata": {},
   "outputs": [],
   "source": [
    "## 建筑拆除阶段碳排放量计算 Demolition Period Carbon Emission Calculation"
   ]
  },
  {
   "cell_type": "code",
   "execution_count": 94,
   "id": "712fb3f9",
   "metadata": {},
   "outputs": [],
   "source": [
    "## Ccc : 建筑拆除阶段单位建筑面积的碳排放量\n",
    "\n",
    "## Ecc : array of energy use of different material in Demolition period\n",
    "## EF : array of carbon emission factor corresponding the Ecc materials\n",
    "## A : Area of Construction\n",
    "def Demolition(Ecc, EF, A):\n",
    "    Ecc_i = np.array(Ecc)\n",
    "    EF_i = np.array(EF)\n",
    "    \n",
    "    Ccc = np.sum(Ecc_i * EF_i) / A\n",
    "    print(\"建筑拆除阶段单位建筑面积的碳排放量是：\" + str(Ccc) + \" KgCO\\u2082\"+ \"/m\\u00B2\")\n",
    "    return Ccc"
   ]
  },
  {
   "cell_type": "code",
   "execution_count": 96,
   "id": "7c7655e2",
   "metadata": {},
   "outputs": [
    {
     "name": "stdout",
     "output_type": "stream",
     "text": [
      "建筑拆除阶段单位建筑面积的碳排放量是：12.0 KgCO₂/m²\n"
     ]
    },
    {
     "data": {
      "text/plain": [
       "12.0"
      ]
     },
     "execution_count": 96,
     "metadata": {},
     "output_type": "execute_result"
    }
   ],
   "source": [
    "Demolition([1,2,3],[2,2,2], 1)"
   ]
  },
  {
   "cell_type": "code",
   "execution_count": 99,
   "id": "934c3be9",
   "metadata": {},
   "outputs": [],
   "source": [
    "## 人工拆除和机械拆除的能源用量\n",
    "\n",
    "## Ecc : 拆除阶段能源 in kWh or kg\n",
    "## Qcc : array of i 项目工程量\n",
    "## fcc : array of i 项目耗能系数\n",
    "def Ecc(Qcc, fcc):\n",
    "    Qcc_i = np.array(Qcc)\n",
    "    fcc_i = np.array(fcc)\n",
    "    \n",
    "    Ecc = np.sum(Qcc_i * fcc_i)\n",
    "    print(\"拆除阶段总能源用量：\" + str(Ecc) + \" kWh或kg\")\n",
    "    return Ecc\n",
    "   \n",
    "## fcc : array of i 项目耗能系数\n",
    "## i, j : i 项目 j 施工机械台\n",
    "## Tij : i * j matrix 第i个项目第j种施工机械台消耗量 （台班)\n",
    "## Rj : i * j matrix 附录C 第i个项目第j机械台能源用量 （kWh/台班)\n",
    "## Ejj_i : array with length i 第i个项目中 小型施工机消耗\n",
    "def fcc(i, j, Tij, Rj, Ejj_i):  \n",
    "  \n",
    "    fcc = np.sum(Tij * Rj, axis=1)\n",
    "    ## print(np.array(fx))\n",
    "    Ejj = np.array(Ejj_i)\n",
    "    ## print(Ejj)\n",
    "    fcc_i = np.array(fcc) + Ejj\n",
    "    \n",
    "    ## print (fx_i.shape)\n",
    "    return fcc_i\n",
    " "
   ]
  },
  {
   "cell_type": "code",
   "execution_count": 100,
   "id": "ebfa66f0",
   "metadata": {},
   "outputs": [
    {
     "name": "stdout",
     "output_type": "stream",
     "text": [
      "拆除阶段总能源用量：30.0 kWh 或 kg\n",
      "30.0\n"
     ]
    }
   ],
   "source": [
    "print(Ecc([2,2,2], fcc(3,3,np.ones((3,3)), np.ones((3,3)), [2,2,2])))"
   ]
  },
  {
   "cell_type": "code",
   "execution_count": null,
   "id": "47e2b0ca",
   "metadata": {},
   "outputs": [],
   "source": []
  },
  {
   "cell_type": "code",
   "execution_count": null,
   "id": "3e62853b",
   "metadata": {},
   "outputs": [],
   "source": []
  },
  {
   "cell_type": "code",
   "execution_count": null,
   "id": "be0215e9",
   "metadata": {},
   "outputs": [],
   "source": []
  },
  {
   "cell_type": "code",
   "execution_count": null,
   "id": "7bddf8bf",
   "metadata": {},
   "outputs": [],
   "source": [
    "## 建材生产运输阶段碳排放计算 Carbon Emission in Building Materials Production and Transportation Period"
   ]
  },
  {
   "cell_type": "code",
   "execution_count": 106,
   "id": "9a45e6db",
   "metadata": {},
   "outputs": [],
   "source": [
    "## Cjc : 建材生产运输阶段单位建筑面积碳排放量\n",
    "\n",
    "## Csc :  建材生产阶段碳排放\n",
    "## Cys :  建材运输阶段碳排放\n",
    "## A : 建筑面积\n",
    "\n",
    "def Cjc(Csc, Cys, A):\n",
    "    Cjc = (Csc + Cys) / A\n",
    "    \n",
    "    print(\"建材生产运输阶段单位建筑面积碳排放量：\" + str(Cjc) + \" kgCO\\u2082e/m\\u00B2\")\n",
    "    return Cjc"
   ]
  },
  {
   "cell_type": "code",
   "execution_count": 107,
   "id": "79ce0d4e",
   "metadata": {},
   "outputs": [
    {
     "name": "stdout",
     "output_type": "stream",
     "text": [
      "建材生产运输阶段单位建筑面积碳排放量：4.0 kgCO₂e/m²\n"
     ]
    },
    {
     "data": {
      "text/plain": [
       "4.0"
      ]
     },
     "execution_count": 107,
     "metadata": {},
     "output_type": "execute_result"
    }
   ],
   "source": [
    "Cjc(3,5,2)"
   ]
  },
  {
   "cell_type": "code",
   "execution_count": null,
   "id": "67e4f8a6",
   "metadata": {},
   "outputs": [],
   "source": [
    "## 建材生产阶段碳排放计算 Carbon Emission in Building Materials Production"
   ]
  },
  {
   "cell_type": "code",
   "execution_count": 111,
   "id": "6acd3fb8",
   "metadata": {},
   "outputs": [],
   "source": [
    "## Csc : 建材生产阶段碳排放\n",
    "\n",
    "## M : i 建材消耗量 array\n",
    "## F : i 建材的碳排放因子 附录D array\n",
    "def Csc(M, F):\n",
    "    Mi = np.array(M)\n",
    "    Fi = np.array(F)\n",
    "    \n",
    "    Csc = np.sum(Mi * Fi)\n",
    "    print(\"建材生产阶段碳排放：\" + str(Csc) + \" kgCO\\u2082e\")\n",
    "    return Csc"
   ]
  },
  {
   "cell_type": "code",
   "execution_count": 112,
   "id": "61bc6587",
   "metadata": {},
   "outputs": [
    {
     "name": "stdout",
     "output_type": "stream",
     "text": [
      "建材生产阶段碳排放：6 kgCO₂e\n"
     ]
    },
    {
     "data": {
      "text/plain": [
       "6"
      ]
     },
     "execution_count": 112,
     "metadata": {},
     "output_type": "execute_result"
    }
   ],
   "source": [
    "Csc([1,1,1],[1,2,3])"
   ]
  },
  {
   "cell_type": "code",
   "execution_count": null,
   "id": "1f98de05",
   "metadata": {},
   "outputs": [],
   "source": [
    "## 建材运输阶段碳排放计算 Carbon Emission in Building Materials Transportation"
   ]
  },
  {
   "cell_type": "code",
   "execution_count": 113,
   "id": "c4679a2f",
   "metadata": {},
   "outputs": [],
   "source": [
    "## Cys :  建材运输阶段碳排放\n",
    "\n",
    "## M : i 建材消耗量 array t\n",
    "## D : i 建材平均运输距离 km\n",
    "## T : i 建材的运输方式下，单位重量运输距离的碳排放因子\n",
    "def Cys(M, D, T):\n",
    "    Mi = np.array(M)\n",
    "    Di = np.array(D)\n",
    "    Ti = np.array(T)\n",
    "    \n",
    "    Cys = np.sum(Mi * Di * Ti)\n",
    "    print(\"建材运输阶段碳排放：\" + str(Cys) + \" kgCO\\u2082e\")\n",
    "    return Cys\n"
   ]
  },
  {
   "cell_type": "code",
   "execution_count": 114,
   "id": "7f827528",
   "metadata": {},
   "outputs": [
    {
     "name": "stdout",
     "output_type": "stream",
     "text": [
      "建材运输阶段碳排放：12 kgCO₂e\n"
     ]
    },
    {
     "data": {
      "text/plain": [
       "12"
      ]
     },
     "execution_count": 114,
     "metadata": {},
     "output_type": "execute_result"
    }
   ],
   "source": [
    "Cys([1,1,1],[1,2,3],[2,2,2])"
   ]
  },
  {
   "cell_type": "code",
   "execution_count": null,
   "id": "0db18235",
   "metadata": {},
   "outputs": [],
   "source": []
  },
  {
   "cell_type": "code",
   "execution_count": null,
   "id": "03a9d49c",
   "metadata": {},
   "outputs": [],
   "source": []
  },
  {
   "cell_type": "code",
   "execution_count": null,
   "id": "9584ff63",
   "metadata": {},
   "outputs": [],
   "source": []
  },
  {
   "cell_type": "code",
   "execution_count": null,
   "id": "fa01210f",
   "metadata": {},
   "outputs": [],
   "source": []
  },
  {
   "cell_type": "code",
   "execution_count": null,
   "id": "0e5d5292",
   "metadata": {},
   "outputs": [],
   "source": []
  },
  {
   "cell_type": "code",
   "execution_count": null,
   "id": "93d90b36",
   "metadata": {},
   "outputs": [],
   "source": []
  }
 ],
 "metadata": {
  "kernelspec": {
   "display_name": "Python 3 (ipykernel)",
   "language": "python",
   "name": "python3"
  },
  "language_info": {
   "codemirror_mode": {
    "name": "ipython",
    "version": 3
   },
   "file_extension": ".py",
   "mimetype": "text/x-python",
   "name": "python",
   "nbconvert_exporter": "python",
   "pygments_lexer": "ipython3",
   "version": "3.9.13"
  }
 },
 "nbformat": 4,
 "nbformat_minor": 5
}
