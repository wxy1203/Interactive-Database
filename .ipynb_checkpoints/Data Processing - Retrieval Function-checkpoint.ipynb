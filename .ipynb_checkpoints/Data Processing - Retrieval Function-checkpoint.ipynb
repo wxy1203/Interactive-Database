{
 "cells": [
  {
   "cell_type": "code",
   "execution_count": 40,
   "id": "82467b24",
   "metadata": {},
   "outputs": [],
   "source": [
    "import pandas as pd\n",
    "import numpy as np"
   ]
  },
  {
   "cell_type": "code",
   "execution_count": 50,
   "id": "4ba9d3fe",
   "metadata": {},
   "outputs": [],
   "source": [
    "## 读取表格数据\n",
    "## Read all sheets from the Excel file\n",
    "xlsx = pd.read_excel('Carbon Emission Factor Database.xlsx', sheet_name=None)\n",
    "\n",
    "## Access each DataFrame using the sheet name\n",
    "df1 = xlsx['能源(Energy Sources)']\n",
    "df2 = xlsx['建筑材料(Building Materials)']\n",
    "df3 = xlsx['建材运输(Material Transportation)']\n",
    "df4 = xlsx['碳汇(Carbon Sink)']\n",
    "\n",
    "## print(df1.head())\n",
    "\n",
    "# List of DataFrames\n",
    "dfs = [df1, df2, df3, df4]"
   ]
  },
  {
   "cell_type": "code",
   "execution_count": 52,
   "id": "4c4c19f5",
   "metadata": {
    "scrolled": true
   },
   "outputs": [],
   "source": [
    "## df1['材料']\n",
    "## filtered_df1 = df1[df1['材料'].str.contains(material_name, case=False, regex=False)]\n",
    "## print(filtered_df1)"
   ]
  },
  {
   "cell_type": "code",
   "execution_count": 78,
   "id": "4af3d7ed",
   "metadata": {},
   "outputs": [],
   "source": [
    "def classify(i):\n",
    "    if i == 1:\n",
    "        return \"能源(Energy Sources)\"\n",
    "    elif i == 2:\n",
    "        return \"建筑材料(Building Materials)\"\n",
    "    elif i == 3:\n",
    "        return \"建材运输(Material Transportation)\"\n",
    "    elif i == 4:\n",
    "        return \"碳汇(Carbon Sink)\"\n",
    "    else:\n",
    "        return \"未找到该种类材料名称\""
   ]
  },
  {
   "cell_type": "code",
   "execution_count": 89,
   "id": "4673cc85",
   "metadata": {},
   "outputs": [
    {
     "name": "stdout",
     "output_type": "stream",
     "text": [
      "请输入想查询的材料名称：haha\n"
     ]
    }
   ],
   "source": [
    "material_name = input(\"请输入想查询的材料名称：\")"
   ]
  },
  {
   "cell_type": "code",
   "execution_count": 91,
   "id": "ec3bad36",
   "metadata": {},
   "outputs": [
    {
     "name": "stdout",
     "output_type": "stream",
     "text": [
      "----------------------------------------------------------------------\n",
      "\n",
      "未能查询到 'haha' 该材料名称\n",
      "\n",
      "----------------------------------------------------------------------\n"
     ]
    }
   ],
   "source": [
    "print('-' * 70)\n",
    "print()\n",
    "\n",
    "# Initialize a list to store the DataFrame indices where the material name is found\n",
    "matching_dfs = []\n",
    "index = 0\n",
    "\n",
    "# Iterate over each DataFrame\n",
    "for i, df in enumerate(dfs):\n",
    "    # Filter the DataFrame based on the material name\n",
    "    filtered_df = df[df['材料'].str.contains(material_name, case=False, regex=False)]\n",
    "    \n",
    "    # Check if the filtered DataFrame is not empty\n",
    "    if not filtered_df.empty:\n",
    "        \n",
    "        # Store the index of the DataFrame where the material name is found\n",
    "        matching_dfs.append(i)\n",
    "       \n",
    "        classification = classify(i+1)\n",
    "        ## print(classify(i+1))\n",
    "        \n",
    "        print(f\"'{material_name}' 隶属于\" + classification + \"类型\")\n",
    "        print()\n",
    "        print('-' * 70)\n",
    "        \n",
    "        # Display the filtered DataFrame for the current iteration\n",
    "        num = len(filtered_df)\n",
    "        print()\n",
    "        print(\"为您搜查到 \" + str(num) + \" 种结果：\")\n",
    "        print()\n",
    "        print(filtered_df)\n",
    "        \n",
    "\n",
    "# Check if the material name is found in any DataFrame\n",
    "if len(matching_dfs) <= 0:\n",
    "    print(f\"未能查询到 '{material_name}' 该材料名称\")\n",
    "\n",
    "print()\n",
    "print('-' * 70)\n"
   ]
  },
  {
   "cell_type": "code",
   "execution_count": null,
   "id": "2b0bd5c9",
   "metadata": {},
   "outputs": [],
   "source": []
  },
  {
   "cell_type": "code",
   "execution_count": null,
   "id": "75889c61",
   "metadata": {},
   "outputs": [],
   "source": []
  },
  {
   "cell_type": "code",
   "execution_count": null,
   "id": "dabcc4ed",
   "metadata": {},
   "outputs": [],
   "source": []
  },
  {
   "cell_type": "code",
   "execution_count": null,
   "id": "41f21420",
   "metadata": {},
   "outputs": [],
   "source": []
  },
  {
   "cell_type": "code",
   "execution_count": null,
   "id": "9a0b28e0",
   "metadata": {},
   "outputs": [],
   "source": []
  },
  {
   "cell_type": "code",
   "execution_count": null,
   "id": "545a9167",
   "metadata": {},
   "outputs": [],
   "source": []
  },
  {
   "cell_type": "code",
   "execution_count": null,
   "id": "a789d4f9",
   "metadata": {},
   "outputs": [],
   "source": []
  },
  {
   "cell_type": "code",
   "execution_count": null,
   "id": "0bc05933",
   "metadata": {},
   "outputs": [],
   "source": []
  },
  {
   "cell_type": "code",
   "execution_count": null,
   "id": "bba39d04",
   "metadata": {},
   "outputs": [],
   "source": []
  }
 ],
 "metadata": {
  "kernelspec": {
   "display_name": "Python 3 (ipykernel)",
   "language": "python",
   "name": "python3"
  },
  "language_info": {
   "codemirror_mode": {
    "name": "ipython",
    "version": 3
   },
   "file_extension": ".py",
   "mimetype": "text/x-python",
   "name": "python",
   "nbconvert_exporter": "python",
   "pygments_lexer": "ipython3",
   "version": "3.9.13"
  }
 },
 "nbformat": 4,
 "nbformat_minor": 5
}
