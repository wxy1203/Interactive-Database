{
 "cells": [
  {
   "cell_type": "code",
   "execution_count": 40,
   "id": "7090701e",
   "metadata": {},
   "outputs": [],
   "source": [
    "import pandas as pd\n",
    "import numpy as np"
   ]
  },
  {
   "cell_type": "code",
   "execution_count": 50,
   "id": "72770733",
   "metadata": {},
   "outputs": [],
   "source": [
    "## 读取表格数据\n",
    "## Read all sheets from the Excel file\n",
    "xlsx = pd.read_excel('Carbon Emission Factor Database.xlsx', sheet_name=None)\n",
    "\n",
    "## Access each DataFrame using the sheet name\n",
    "df1 = xlsx['能源(Energy Sources)']\n",
    "df2 = xlsx['建筑材料(Building Materials)']\n",
    "df3 = xlsx['建材运输(Material Transportation)']\n",
    "df4 = xlsx['碳汇(Carbon Sink)']\n",
    "\n",
    "## print(df1.head())\n",
    "\n",
    "# List of DataFrames\n",
    "dfs = [df1, df2, df3, df4]"
   ]
  },
  {
   "cell_type": "code",
   "execution_count": 51,
   "id": "799e6504",
   "metadata": {},
   "outputs": [
    {
     "name": "stdout",
     "output_type": "stream",
     "text": [
      "请输入想查询的材料名称： 冷硬碳钢板卷\n"
     ]
    }
   ],
   "source": [
    "material_name = input(\"请输入想查询的材料名称： \")"
   ]
  },
  {
   "cell_type": "code",
   "execution_count": 52,
   "id": "c60afc7f",
   "metadata": {
    "scrolled": true
   },
   "outputs": [],
   "source": [
    "## df1['材料']\n",
    "## filtered_df1 = df1[df1['材料'].str.contains(material_name, case=False, regex=False)]\n",
    "## print(filtered_df1)"
   ]
  },
  {
   "cell_type": "code",
   "execution_count": 53,
   "id": "bb343d5c",
   "metadata": {},
   "outputs": [
    {
     "name": "stdout",
     "output_type": "stream",
     "text": [
      "Results for df2:\n",
      "         材料   碳排放因子         单位  碳排放因子参考范围       单位.1  材料类型 细分类型  地区    年份  \\\n",
      "44   冷硬碳钢板卷  2410.0  kg CO2e/t        NaN        NaN  建筑材料   钢铁  中国  2019   \n",
      "171  冷硬碳钢板卷  2410.0  kg CO2e/t  1827~4808  kg CO2e/t  建筑材料   钢铁  中国  2022   \n",
      "\n",
      "                         数据来源  \\\n",
      "44   GBT-51366-2019-建筑碳排放计算标准   \n",
      "171                建筑工程碳排放量计算   \n",
      "\n",
      "                                                数据来源地址 Data Provider  \n",
      "44   http://zjj.panzhihua.gov.cn/ztzl/szsnjnljxc/js...           NaN  \n",
      "171             ISBN 978-7-111-70965-7 2022年9月第1版第1次印刷           NaN  \n",
      "\n",
      "The material name '冷硬碳钢板卷' is found in the following DataFrame(s): [1]\n"
     ]
    }
   ],
   "source": [
    "\n",
    "# Initialize a list to store the DataFrame indices where the material name is found\n",
    "matching_dfs = []\n",
    "\n",
    "# Iterate over each DataFrame\n",
    "for i, df in enumerate(dfs):\n",
    "    # Filter the DataFrame based on the material name\n",
    "    filtered_df = df[df['材料'].str.contains(material_name, case=False, regex=False)]\n",
    "    \n",
    "    # Check if the filtered DataFrame is not empty\n",
    "    if not filtered_df.empty:\n",
    "        # Store the index of the DataFrame where the material name is found\n",
    "        matching_dfs.append(i)\n",
    "\n",
    "        # Display the filtered DataFrame for the current iteration\n",
    "        print(f\"Results for df{i+1}:\")\n",
    "        print(filtered_df)\n",
    "        print()\n",
    "\n",
    "# Check if the material name is found in any DataFrame\n",
    "if len(matching_dfs) > 0:\n",
    "    print(f\"The material name '{material_name}' is found in the following DataFrame(s): {matching_dfs}\")\n",
    "else:\n",
    "    print(f\"The material name '{material_name}' is not found in any DataFrame.\")\n"
   ]
  },
  {
   "cell_type": "code",
   "execution_count": null,
   "id": "6b08287b",
   "metadata": {},
   "outputs": [],
   "source": []
  },
  {
   "cell_type": "code",
   "execution_count": null,
   "id": "97dcab43",
   "metadata": {},
   "outputs": [],
   "source": []
  },
  {
   "cell_type": "code",
   "execution_count": null,
   "id": "7e1f8c4d",
   "metadata": {},
   "outputs": [],
   "source": []
  },
  {
   "cell_type": "code",
   "execution_count": null,
   "id": "beeec23f",
   "metadata": {},
   "outputs": [],
   "source": []
  },
  {
   "cell_type": "code",
   "execution_count": null,
   "id": "de61512c",
   "metadata": {},
   "outputs": [],
   "source": []
  },
  {
   "cell_type": "code",
   "execution_count": null,
   "id": "ab705ea2",
   "metadata": {},
   "outputs": [],
   "source": []
  },
  {
   "cell_type": "code",
   "execution_count": null,
   "id": "bdc44f8e",
   "metadata": {},
   "outputs": [],
   "source": []
  },
  {
   "cell_type": "code",
   "execution_count": null,
   "id": "90fce2ac",
   "metadata": {},
   "outputs": [],
   "source": []
  },
  {
   "cell_type": "code",
   "execution_count": null,
   "id": "5fd7749e",
   "metadata": {},
   "outputs": [],
   "source": []
  }
 ],
 "metadata": {
  "kernelspec": {
   "display_name": "Python 3 (ipykernel)",
   "language": "python",
   "name": "python3"
  },
  "language_info": {
   "codemirror_mode": {
    "name": "ipython",
    "version": 3
   },
   "file_extension": ".py",
   "mimetype": "text/x-python",
   "name": "python",
   "nbconvert_exporter": "python",
   "pygments_lexer": "ipython3",
   "version": "3.9.13"
  }
 },
 "nbformat": 4,
 "nbformat_minor": 5
}
