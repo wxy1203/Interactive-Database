{
 "cells": [
  {
   "cell_type": "code",
   "execution_count": 3,
   "id": "d94e8c88",
   "metadata": {},
   "outputs": [
    {
     "name": "stdout",
     "output_type": "stream",
     "text": [
      "Requirement already satisfied: pandas in /Users/wangxinyi/anaconda3/lib/python3.10/site-packages (1.5.3)\r\n",
      "Requirement already satisfied: python-dateutil>=2.8.1 in /Users/wangxinyi/anaconda3/lib/python3.10/site-packages (from pandas) (2.8.2)\r\n",
      "Requirement already satisfied: pytz>=2020.1 in /Users/wangxinyi/anaconda3/lib/python3.10/site-packages (from pandas) (2022.7)\r\n",
      "Requirement already satisfied: numpy>=1.21.0 in /Users/wangxinyi/anaconda3/lib/python3.10/site-packages (from pandas) (1.23.5)\r\n",
      "Requirement already satisfied: six>=1.5 in /Users/wangxinyi/anaconda3/lib/python3.10/site-packages (from python-dateutil>=2.8.1->pandas) (1.16.0)\r\n"
     ]
    }
   ],
   "source": [
    "!pip install pandas\n",
    "import pandas as pd\n",
    "\n",
    "## 读取表格数据\n",
    "## Read all sheets from the Excel file\n",
    "xlsx = pd.read_excel('Carbon Emission Factor Database.xlsx', sheet_name=None)\n",
    "\n",
    "## Access each DataFrame using the sheet name\n",
    "df1 = xlsx['能源(Energy Sources)']\n",
    "df2 = xlsx['建筑材料(Building Materials)']\n",
    "df3 = xlsx['建材运输(Material Transportation)']\n",
    "df4 = xlsx['碳汇(Carbon Sink)']\n",
    "\n",
    "## print(df1.head())\n",
    "\n",
    "# List of DataFrames\n",
    "dfs = [df1, df2, df3, df4]"
   ]
  },
  {
   "cell_type": "code",
   "execution_count": 4,
   "id": "85b94127",
   "metadata": {},
   "outputs": [
    {
     "data": {
      "text/plain": [
       "<bound method NDFrame.head of                                                     材料  价格CNY/t  强度MPa  \\\n",
       "0      普通硅酸盐水泥(市场平均)(Portland Cement (market average))   450.00   30.0   \n",
       "1                                 C30混凝土(C30 Concrete)   282.60   30.0   \n",
       "2                                 C50混凝土(C50 Concrete)   354.17   50.0   \n",
       "3          石灰生产(市场平均)(Lime Production, market average)   750.00    5.5   \n",
       "4       消石灰(熟石灰、氢氧化钙)(Hydrated Lime/Calcium Hydroxide)  2250.00    5.5   \n",
       "..                                                 ...      ...    ...   \n",
       "417            绝缘导线(Insulated wire) 2根，线径1.5（RVS2*1.5）      NaN    NaN   \n",
       "418            绝缘导线(Insulated wire) 2根，线径1.0（RVS2*1.0）      NaN    NaN   \n",
       "419  绝缘导线(Insulated wire) 铜芯聚乙烯绝缘电线，电线横切面积2.5平方毫米（B...      NaN    NaN   \n",
       "420  绝缘导线(Insulated wire) 铜芯聚乙烯绝缘电线，电线横切面积4平方毫米（BV-...      NaN    NaN   \n",
       "421  绝缘导线(Insulated wire) 铜芯聚乙烯绝缘电线，电线横切面积10平方毫米（BV...      NaN    NaN   \n",
       "\n",
       "     热传导W/(m·K) 密度g/cm³    碳排放因子                        单位 碳排放因子参考范围 单位.1  \\\n",
       "0         1.050    3.15  2315.25                kg CO2e/m3       NaN  NaN   \n",
       "1         1.550     2.3   678.50                kg CO2e/m3       NaN  NaN   \n",
       "2         2.000     2.4   924.00                kg CO2e/m3       NaN  NaN   \n",
       "3         1.000     2.5  1190.00                kg CO2e/m3       NaN  NaN   \n",
       "4         0.165    2.21  2975.00                kg CO2e/m3       NaN  NaN   \n",
       "..          ...     ...      ...                       ...       ...  ...   \n",
       "417         NaN     NaN     0.25  千克二氧化碳当量/米\\n（kgCO2-eq/m）       NaN  NaN   \n",
       "418         NaN     NaN     0.02  千克二氧化碳当量/米\\n（kgCO2-eq/m）       NaN  NaN   \n",
       "419         NaN     NaN     0.21  千克二氧化碳当量/米\\n（kgCO2-eq/m）       NaN  NaN   \n",
       "420         NaN     NaN     0.34  千克二氧化碳当量/米\\n（kgCO2-eq/m）       NaN  NaN   \n",
       "421         NaN     NaN     0.13  千克二氧化碳当量/米\\n（kgCO2-eq/m）       NaN  NaN   \n",
       "\n",
       "    细分类型  地区    年份                      数据来源  \\\n",
       "0     水泥  中国  2019  GBT-51366-2019-建筑碳排放计算标准   \n",
       "1    混凝土  中国  2019  GBT-51366-2019-建筑碳排放计算标准   \n",
       "2    混凝土  中国  2019  GBT-51366-2019-建筑碳排放计算标准   \n",
       "3    原材料  中国  2019  GBT-51366-2019-建筑碳排放计算标准   \n",
       "4    原材料  中国  2019  GBT-51366-2019-建筑碳排放计算标准   \n",
       "..   ...  ..   ...                       ...   \n",
       "417   其他  中国  2005  中国产品全生命周期温室气体排放系数库, CPCD   \n",
       "418   其他  中国  2005  中国产品全生命周期温室气体排放系数库, CPCD   \n",
       "419   其他  中国  2005  中国产品全生命周期温室气体排放系数库, CPCD   \n",
       "420   其他  中国  2005  中国产品全生命周期温室气体排放系数库, CPCD   \n",
       "421   其他  中国  2005  中国产品全生命周期温室气体排放系数库, CPCD   \n",
       "\n",
       "                                                数据来源地址  \\\n",
       "0    http://zjj.panzhihua.gov.cn/ztzl/szsnjnljxc/js...   \n",
       "1    http://zjj.panzhihua.gov.cn/ztzl/szsnjnljxc/js...   \n",
       "2    http://zjj.panzhihua.gov.cn/ztzl/szsnjnljxc/js...   \n",
       "3    http://zjj.panzhihua.gov.cn/ztzl/szsnjnljxc/js...   \n",
       "4    http://zjj.panzhihua.gov.cn/ztzl/szsnjnljxc/js...   \n",
       "..                                                 ...   \n",
       "417                            http://lca.cityghg.com/   \n",
       "418                            http://lca.cityghg.com/   \n",
       "419                            http://lca.cityghg.com/   \n",
       "420                            http://lca.cityghg.com/   \n",
       "421                            http://lca.cityghg.com/   \n",
       "\n",
       "                                         Data Provider  \n",
       "0                                                  NaN  \n",
       "1                                                  NaN  \n",
       "2                                                  NaN  \n",
       "3                                                  NaN  \n",
       "4                                                  NaN  \n",
       "..                                                 ...  \n",
       "417  李金潞.寒冷地区城市住宅全生命周期碳排放测算及减碳策略研究 [D]. 西安:西安建筑科技大学...  \n",
       "418  李金潞.寒冷地区城市住宅全生命周期碳排放测算及减碳策略研究 [D]. 西安:西安建筑科技大学...  \n",
       "419  李金潞.寒冷地区城市住宅全生命周期碳排放测算及减碳策略研究 [D]. 西安:西安建筑科技大学...  \n",
       "420  李金潞.寒冷地区城市住宅全生命周期碳排放测算及减碳策略研究 [D]. 西安:西安建筑科技大学...  \n",
       "421  李金潞.寒冷地区城市住宅全生命周期碳排放测算及减碳策略研究 [D]. 西安:西安建筑科技大学...  \n",
       "\n",
       "[422 rows x 15 columns]>"
      ]
     },
     "execution_count": 4,
     "metadata": {},
     "output_type": "execute_result"
    }
   ],
   "source": [
    "df2.head"
   ]
  },
  {
   "cell_type": "code",
   "execution_count": null,
   "id": "1dd01eb8",
   "metadata": {},
   "outputs": [],
   "source": []
  },
  {
   "cell_type": "code",
   "execution_count": null,
   "id": "fe81442d",
   "metadata": {},
   "outputs": [],
   "source": []
  },
  {
   "cell_type": "code",
   "execution_count": null,
   "id": "f4c5b86b",
   "metadata": {},
   "outputs": [],
   "source": []
  },
  {
   "cell_type": "code",
   "execution_count": null,
   "id": "1365453c",
   "metadata": {},
   "outputs": [],
   "source": []
  },
  {
   "cell_type": "code",
   "execution_count": null,
   "id": "161745ce",
   "metadata": {},
   "outputs": [],
   "source": []
  },
  {
   "cell_type": "code",
   "execution_count": null,
   "id": "6628db38",
   "metadata": {},
   "outputs": [],
   "source": []
  },
  {
   "cell_type": "code",
   "execution_count": null,
   "id": "f73493a8",
   "metadata": {},
   "outputs": [],
   "source": []
  },
  {
   "cell_type": "code",
   "execution_count": null,
   "id": "c64b4c9f",
   "metadata": {},
   "outputs": [],
   "source": []
  },
  {
   "cell_type": "code",
   "execution_count": null,
   "id": "d9be70d4",
   "metadata": {},
   "outputs": [],
   "source": []
  },
  {
   "cell_type": "code",
   "execution_count": null,
   "id": "698dfce0",
   "metadata": {},
   "outputs": [],
   "source": []
  },
  {
   "cell_type": "code",
   "execution_count": null,
   "id": "c84c1d6f",
   "metadata": {},
   "outputs": [],
   "source": []
  },
  {
   "cell_type": "code",
   "execution_count": null,
   "id": "38accd25",
   "metadata": {},
   "outputs": [],
   "source": []
  },
  {
   "cell_type": "code",
   "execution_count": null,
   "id": "e5b6f70a",
   "metadata": {},
   "outputs": [],
   "source": []
  },
  {
   "cell_type": "code",
   "execution_count": null,
   "id": "bbfc884a",
   "metadata": {},
   "outputs": [],
   "source": []
  },
  {
   "cell_type": "code",
   "execution_count": null,
   "id": "fbaa8bf1",
   "metadata": {},
   "outputs": [],
   "source": []
  }
 ],
 "metadata": {
  "kernelspec": {
   "display_name": "Python 3 (ipykernel)",
   "language": "python",
   "name": "python3"
  },
  "language_info": {
   "codemirror_mode": {
    "name": "ipython",
    "version": 3
   },
   "file_extension": ".py",
   "mimetype": "text/x-python",
   "name": "python",
   "nbconvert_exporter": "python",
   "pygments_lexer": "ipython3",
   "version": "3.10.9"
  }
 },
 "nbformat": 4,
 "nbformat_minor": 5
}
