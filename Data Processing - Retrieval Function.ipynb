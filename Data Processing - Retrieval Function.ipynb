{
 "cells": [
  {
   "cell_type": "code",
   "execution_count": 176,
   "id": "68d698bf",
   "metadata": {},
   "outputs": [],
   "source": [
    "import pandas as pd\n",
    "import numpy as np\n",
    "\n",
    "from tabulate import tabulate\n",
    "\n",
    "pd.set_option('display.max_columns', None)  # Display all columns\n",
    "pd.set_option('display.expand_frame_repr', False)  # Prevent line wrapping"
   ]
  },
  {
   "cell_type": "code",
   "execution_count": 177,
   "id": "0883439a",
   "metadata": {},
   "outputs": [],
   "source": [
    "## 读取表格数据\n",
    "## Read all sheets from the Excel file\n",
    "xlsx = pd.read_excel('Carbon Emission Factor Database.xlsx', sheet_name=None)\n",
    "\n",
    "## Access each DataFrame using the sheet name\n",
    "df1 = xlsx['能源(Energy Sources)']\n",
    "df2 = xlsx['建筑材料(Building Materials)']\n",
    "df3 = xlsx['建材运输(Material Transportation)']\n",
    "df4 = xlsx['碳汇(Carbon Sink)']\n",
    "\n",
    "## print(df1.head())\n",
    "\n",
    "# List of DataFrames\n",
    "dfs = [df1, df2, df3, df4]"
   ]
  },
  {
   "cell_type": "code",
   "execution_count": 178,
   "id": "b6c6fd41",
   "metadata": {
    "scrolled": true
   },
   "outputs": [],
   "source": [
    "## df1['材料']\n",
    "## filtered_df1 = df1[df1['材料'].str.contains(material_name, case=False, regex=False)]\n",
    "## print(filtered_df1)"
   ]
  },
  {
   "cell_type": "code",
   "execution_count": 182,
   "id": "5eebb6a4",
   "metadata": {},
   "outputs": [],
   "source": [
    "def classify(i):\n",
    "    if i == 1:\n",
    "        return \"能源(Energy Sources)\"\n",
    "    elif i == 2:\n",
    "        return \"建筑材料(Building Materials)\"\n",
    "    elif i == 3:\n",
    "        return \"建材运输(Material Transportation)\"\n",
    "    elif i == 4:\n",
    "        return \"碳汇(Carbon Sink)\"\n",
    "    else:\n",
    "        return \"未找到该种类材料名称\""
   ]
  },
  {
   "cell_type": "code",
   "execution_count": 183,
   "id": "645d5d16",
   "metadata": {},
   "outputs": [
    {
     "name": "stdout",
     "output_type": "stream",
     "text": [
      "请输入想查询的材料名称：石油焦\n"
     ]
    }
   ],
   "source": [
    "material_name = input(\"请输入想查询的材料名称：\")"
   ]
  },
  {
   "cell_type": "code",
   "execution_count": 188,
   "id": "efa2338c",
   "metadata": {
    "scrolled": false
   },
   "outputs": [
    {
     "name": "stdout",
     "output_type": "stream",
     "text": [
      "----------------------------------------------------------------------\n",
      "\n",
      "'石油焦' 隶属于能源(Energy Sources)类型\n",
      "\n",
      "----------------------------------------------------------------------\n",
      "\n",
      "为您搜查到 3 种结果：\n",
      "\n",
      "                   材料 单位热值碳排放因子                       单位\n",
      "  石油焦(Petroleum Coke)     98.82                 t CO2/TJ\n",
      "  石油焦(Petroleum Coke)      95.7                 t CO2/TJ\n",
      "石油焦\\n（Petroleum Coke）      3.16 吨二氧化碳当量/吨\\n（t CO2-eq/ t）\n",
      "\n",
      "----------------------------------------------------------------------\n"
     ]
    }
   ],
   "source": [
    "print('-' * 70)\n",
    "print()\n",
    "\n",
    "# Initialize a list to store the DataFrame indices where the material name is found\n",
    "matching_dfs = []\n",
    "index = 0\n",
    "\n",
    "# Iterate over each DataFrame\n",
    "for i, df in enumerate(dfs):\n",
    "    # Filter the DataFrame based on the material name\n",
    "    filtered_df = df[df['材料'].str.contains(material_name, case=False, regex=False, na=False)]\n",
    "    \n",
    "    # Check if the filtered DataFrame is not empty\n",
    "    if not filtered_df.empty:\n",
    "        \n",
    "        # Store the index of the DataFrame where the material name is found\n",
    "        matching_dfs.append(i)\n",
    "       \n",
    "        classification = classify(i+1)\n",
    "        ## print(classify(i+1))\n",
    "        \n",
    "        print(f\"'{material_name}' 隶属于\" + classification + \"类型\")\n",
    "        print()\n",
    "        print('-' * 70)\n",
    "        \n",
    "        # Display the filtered DataFrame for the current iteration\n",
    "        num = len(filtered_df)\n",
    "        print()\n",
    "        print(\"为您搜查到 \" + str(num) + \" 种结果：\")\n",
    "        print()\n",
    "        print(filtered_df.iloc[:, :7].dropna(axis=1).to_string(index=False))\n",
    "        \n",
    "        # Convert filtered DataFrame to a list of lists\n",
    "        data = filtered_df.values.tolist()\n",
    "        ## print(data[0])\n",
    "\n",
    "        \n",
    "        \n",
    "        \n",
    "\n",
    "# Check if the material name is found in any DataFrame\n",
    "if len(matching_dfs) <= 0:\n",
    "    print(f\"未能查询到 '{material_name}' 该材料名称\")\n",
    "\n",
    "print()\n",
    "print('-' * 70)\n"
   ]
  },
  {
   "cell_type": "code",
   "execution_count": null,
   "id": "9401b7d7",
   "metadata": {},
   "outputs": [],
   "source": []
  },
  {
   "cell_type": "code",
   "execution_count": null,
   "id": "ff5c4433",
   "metadata": {},
   "outputs": [],
   "source": []
  },
  {
   "cell_type": "code",
   "execution_count": null,
   "id": "60ef73fc",
   "metadata": {},
   "outputs": [],
   "source": []
  },
  {
   "cell_type": "code",
   "execution_count": null,
   "id": "f07be713",
   "metadata": {},
   "outputs": [],
   "source": []
  },
  {
   "cell_type": "code",
   "execution_count": null,
   "id": "9adc4439",
   "metadata": {},
   "outputs": [],
   "source": []
  },
  {
   "cell_type": "code",
   "execution_count": null,
   "id": "2a4033ae",
   "metadata": {},
   "outputs": [],
   "source": []
  },
  {
   "cell_type": "code",
   "execution_count": null,
   "id": "3bf58dab",
   "metadata": {},
   "outputs": [],
   "source": []
  },
  {
   "cell_type": "code",
   "execution_count": null,
   "id": "f42d8179",
   "metadata": {},
   "outputs": [],
   "source": []
  },
  {
   "cell_type": "code",
   "execution_count": null,
   "id": "5c49782d",
   "metadata": {},
   "outputs": [],
   "source": []
  }
 ],
 "metadata": {
  "kernelspec": {
   "display_name": "Python 3 (ipykernel)",
   "language": "python",
   "name": "python3"
  },
  "language_info": {
   "codemirror_mode": {
    "name": "ipython",
    "version": 3
   },
   "file_extension": ".py",
   "mimetype": "text/x-python",
   "name": "python",
   "nbconvert_exporter": "python",
   "pygments_lexer": "ipython3",
   "version": "3.9.13"
  }
 },
 "nbformat": 4,
 "nbformat_minor": 5
}
