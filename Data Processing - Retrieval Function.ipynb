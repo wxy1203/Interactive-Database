{
 "cells": [
  {
   "cell_type": "code",
   "execution_count": 40,
   "id": "28bec544",
   "metadata": {},
   "outputs": [],
   "source": [
    "import pandas as pd\n",
    "import numpy as np"
   ]
  },
  {
   "cell_type": "code",
   "execution_count": 50,
   "id": "c4980bc7",
   "metadata": {},
   "outputs": [],
   "source": [
    "## 读取表格数据\n",
    "## Read all sheets from the Excel file\n",
    "xlsx = pd.read_excel('Carbon Emission Factor Database.xlsx', sheet_name=None)\n",
    "\n",
    "## Access each DataFrame using the sheet name\n",
    "df1 = xlsx['能源(Energy Sources)']\n",
    "df2 = xlsx['建筑材料(Building Materials)']\n",
    "df3 = xlsx['建材运输(Material Transportation)']\n",
    "df4 = xlsx['碳汇(Carbon Sink)']\n",
    "\n",
    "## print(df1.head())\n",
    "\n",
    "# List of DataFrames\n",
    "dfs = [df1, df2, df3, df4]"
   ]
  },
  {
   "cell_type": "code",
   "execution_count": 51,
   "id": "eabb5d1d",
   "metadata": {},
   "outputs": [
    {
     "name": "stdout",
     "output_type": "stream",
     "text": [
      "请输入想查询的材料名称： 冷硬碳钢板卷\n"
     ]
    }
   ],
   "source": [
    "material_name = input(\"请输入想查询的材料名称： \")"
   ]
  },
  {
   "cell_type": "code",
   "execution_count": 52,
   "id": "86aa9163",
   "metadata": {
    "scrolled": true
   },
   "outputs": [],
   "source": [
    "## df1['材料']\n",
    "## filtered_df1 = df1[df1['材料'].str.contains(material_name, case=False, regex=False)]\n",
    "## print(filtered_df1)"
   ]
  },
  {
   "cell_type": "code",
   "execution_count": 60,
   "id": "dcb99e89",
   "metadata": {},
   "outputs": [],
   "source": [
    "def classify(i):\n",
    "    if i == 1:\n",
    "        return \"能源(Energy Sources)\"\n",
    "    elif i == 2:\n",
    "        return \"建筑材料(Building Materials)\"\n",
    "    elif i == 3:\n",
    "        return \"建材运输(Material Transportation)\"\n",
    "    elif i == 4:\n",
    "        return \"碳汇(Carbon Sink)\"\n",
    "    else:\n",
    "        return \"未找到该种类材料名称\""
   ]
  },
  {
   "cell_type": "code",
   "execution_count": 64,
   "id": "c4b2698b",
   "metadata": {},
   "outputs": [
    {
     "name": "stdout",
     "output_type": "stream",
     "text": [
      "'冷硬碳钢板卷' 隶属于建筑材料(Building Materials)类型\n",
      "Results for df2:\n",
      "         材料   碳排放因子         单位  碳排放因子参考范围       单位.1  材料类型 细分类型  地区    年份  \\\n",
      "44   冷硬碳钢板卷  2410.0  kg CO2e/t        NaN        NaN  建筑材料   钢铁  中国  2019   \n",
      "171  冷硬碳钢板卷  2410.0  kg CO2e/t  1827~4808  kg CO2e/t  建筑材料   钢铁  中国  2022   \n",
      "\n",
      "                         数据来源  \\\n",
      "44   GBT-51366-2019-建筑碳排放计算标准   \n",
      "171                建筑工程碳排放量计算   \n",
      "\n",
      "                                                数据来源地址 Data Provider  \n",
      "44   http://zjj.panzhihua.gov.cn/ztzl/szsnjnljxc/js...           NaN  \n",
      "171             ISBN 978-7-111-70965-7 2022年9月第1版第1次印刷           NaN  \n",
      "\n"
     ]
    }
   ],
   "source": [
    "\n",
    "# Initialize a list to store the DataFrame indices where the material name is found\n",
    "matching_dfs = []\n",
    "index = 0\n",
    "\n",
    "# Iterate over each DataFrame\n",
    "for i, df in enumerate(dfs):\n",
    "    # Filter the DataFrame based on the material name\n",
    "    filtered_df = df[df['材料'].str.contains(material_name, case=False, regex=False)]\n",
    "    \n",
    "    # Check if the filtered DataFrame is not empty\n",
    "    if not filtered_df.empty:\n",
    "        \n",
    "        # Store the index of the DataFrame where the material name is found\n",
    "        matching_dfs.append(i)\n",
    "       \n",
    "        classification = classify(i+1)\n",
    "        ## print(classify(i+1))\n",
    "        \n",
    "        print(f\"'{material_name}' 隶属于\" + classification + \"类型\")\n",
    "        # Display the filtered DataFrame for the current iteration\n",
    "        print(f\"Results for df{i+1}:\")\n",
    "        print(filtered_df)\n",
    "        print()\n",
    "\n",
    "# Check if the material name is found in any DataFrame\n",
    "if len(matching_dfs) <= 0:\n",
    "    print(f\"The material name '{material_name}' is not found in any DataFrame.\")\n"
   ]
  },
  {
   "cell_type": "code",
   "execution_count": null,
   "id": "b7874a1b",
   "metadata": {},
   "outputs": [],
   "source": []
  },
  {
   "cell_type": "code",
   "execution_count": null,
   "id": "f0d77d9a",
   "metadata": {},
   "outputs": [],
   "source": []
  },
  {
   "cell_type": "code",
   "execution_count": null,
   "id": "952981a5",
   "metadata": {},
   "outputs": [],
   "source": []
  },
  {
   "cell_type": "code",
   "execution_count": null,
   "id": "f94296a4",
   "metadata": {},
   "outputs": [],
   "source": []
  },
  {
   "cell_type": "code",
   "execution_count": null,
   "id": "31eab9ac",
   "metadata": {},
   "outputs": [],
   "source": []
  },
  {
   "cell_type": "code",
   "execution_count": null,
   "id": "4a202724",
   "metadata": {},
   "outputs": [],
   "source": []
  },
  {
   "cell_type": "code",
   "execution_count": null,
   "id": "3a37c7bd",
   "metadata": {},
   "outputs": [],
   "source": []
  },
  {
   "cell_type": "code",
   "execution_count": null,
   "id": "074f779e",
   "metadata": {},
   "outputs": [],
   "source": []
  },
  {
   "cell_type": "code",
   "execution_count": null,
   "id": "c7f4486c",
   "metadata": {},
   "outputs": [],
   "source": []
  }
 ],
 "metadata": {
  "kernelspec": {
   "display_name": "Python 3 (ipykernel)",
   "language": "python",
   "name": "python3"
  },
  "language_info": {
   "codemirror_mode": {
    "name": "ipython",
    "version": 3
   },
   "file_extension": ".py",
   "mimetype": "text/x-python",
   "name": "python",
   "nbconvert_exporter": "python",
   "pygments_lexer": "ipython3",
   "version": "3.9.13"
  }
 },
 "nbformat": 4,
 "nbformat_minor": 5
}
