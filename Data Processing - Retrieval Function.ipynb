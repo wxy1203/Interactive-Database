{
 "cells": [
  {
   "cell_type": "code",
   "execution_count": 134,
   "id": "68d698bf",
   "metadata": {},
   "outputs": [],
   "source": [
    "import pandas as pd\n",
    "import numpy as np\n",
    "\n",
    "from tabulate import tabulate"
   ]
  },
  {
   "cell_type": "code",
   "execution_count": 135,
   "id": "0883439a",
   "metadata": {},
   "outputs": [
    {
     "name": "stdout",
     "output_type": "stream",
     "text": [
      "                 材料 单位热值碳排放因子        单位  碳排放因子 单位.1  单位热值含碳量   单位.2  碳氧化率  \\\n",
      "0               无烟煤     94.44  t CO2/TJ    NaN  NaN     27.4  tC/TJ  94.0   \n",
      "1      烟煤(bitumite)        89  t CO2/TJ    NaN  NaN     26.1  tC/TJ  93.0   \n",
      "2       褐煤(Lignite)     98.56  t CO2/TJ    NaN  NaN     28.0  tC/TJ  96.0   \n",
      "3  炼焦煤(Coking Coal)     91.27  t CO2/TJ    NaN  NaN     25.4  tC/TJ  98.0   \n",
      "4          型煤(Coal)    110.88  t CO2/TJ    NaN  NaN     33.6  tC/TJ  90.0   \n",
      "\n",
      "  单位.3 材料类型  细分类型  地区    年份                      数据来源  \\\n",
      "0    %   能源  固体燃料  中国  2019  GBT-51366-2019-建筑碳排放计算标准   \n",
      "1    %   能源  固体燃料  中国  2019  GBT-51366-2019-建筑碳排放计算标准   \n",
      "2    %   能源  固体燃料  中国  2019  GBT-51366-2019-建筑碳排放计算标准   \n",
      "3    %   能源  固体燃料  中国  2019  GBT-51366-2019-建筑碳排放计算标准   \n",
      "4    %   能源  固体燃料  中国  2019  GBT-51366-2019-建筑碳排放计算标准   \n",
      "\n",
      "                                              数据来源地址 Data Provider Link  \n",
      "0  http://zjj.panzhihua.gov.cn/ztzl/szsnjnljxc/js...           NaN  NaN  \n",
      "1  http://zjj.panzhihua.gov.cn/ztzl/szsnjnljxc/js...           NaN  NaN  \n",
      "2  http://zjj.panzhihua.gov.cn/ztzl/szsnjnljxc/js...           NaN  NaN  \n",
      "3  http://zjj.panzhihua.gov.cn/ztzl/szsnjnljxc/js...           NaN  NaN  \n",
      "4  http://zjj.panzhihua.gov.cn/ztzl/szsnjnljxc/js...           NaN  NaN  \n"
     ]
    }
   ],
   "source": [
    "## 读取表格数据\n",
    "## Read all sheets from the Excel file\n",
    "xlsx = pd.read_excel('Carbon Emission Factor Database.xlsx', sheet_name=None)\n",
    "\n",
    "## Access each DataFrame using the sheet name\n",
    "df1 = xlsx['能源(Energy Sources)']\n",
    "df2 = xlsx['建筑材料(Building Materials)']\n",
    "df3 = xlsx['建材运输(Material Transportation)']\n",
    "df4 = xlsx['碳汇(Carbon Sink)']\n",
    "\n",
    "print(df1.head())\n",
    "\n",
    "# List of DataFrames\n",
    "dfs = [df1, df2, df3, df4]"
   ]
  },
  {
   "cell_type": "code",
   "execution_count": 136,
   "id": "b6c6fd41",
   "metadata": {
    "scrolled": true
   },
   "outputs": [],
   "source": [
    "## df1['材料']\n",
    "## filtered_df1 = df1[df1['材料'].str.contains(material_name, case=False, regex=False)]\n",
    "## print(filtered_df1)"
   ]
  },
  {
   "cell_type": "code",
   "execution_count": 137,
   "id": "5eebb6a4",
   "metadata": {},
   "outputs": [],
   "source": [
    "def classify(i):\n",
    "    if i == 1:\n",
    "        return \"能源(Energy Sources)\"\n",
    "    elif i == 2:\n",
    "        return \"建筑材料(Building Materials)\"\n",
    "    elif i == 3:\n",
    "        return \"建材运输(Material Transportation)\"\n",
    "    elif i == 4:\n",
    "        return \"碳汇(Carbon Sink)\"\n",
    "    else:\n",
    "        return \"未找到该种类材料名称\""
   ]
  },
  {
   "cell_type": "code",
   "execution_count": 138,
   "id": "645d5d16",
   "metadata": {},
   "outputs": [
    {
     "name": "stdout",
     "output_type": "stream",
     "text": [
      "请输入想查询的材料名称：无烟煤\n"
     ]
    }
   ],
   "source": [
    "material_name = input(\"请输入想查询的材料名称：\")"
   ]
  },
  {
   "cell_type": "code",
   "execution_count": 139,
   "id": "efa2338c",
   "metadata": {},
   "outputs": [
    {
     "name": "stdout",
     "output_type": "stream",
     "text": [
      "----------------------------------------------------------------------\n",
      "\n",
      "'无烟煤' 隶属于能源(Energy Sources)类型\n",
      "\n",
      "----------------------------------------------------------------------\n",
      "\n",
      "为您搜查到 3 种结果：\n",
      "\n",
      "                    材料 单位热值碳排放因子                        单位  碳排放因子       单位.1  \\\n",
      "0                  无烟煤     94.44                  t CO2/TJ    NaN        NaN   \n",
      "46     无烟煤(Anthracite)     94.88                  t CO2/TJ   2.38  kg CO2/kg   \n",
      "142  无烟煤\\n（anthracite）      1.92  吨二氧化碳当量/吨\\n(t CO2-eq/ t)    NaN        NaN   \n",
      "\n",
      "     单位热值含碳量   单位.2  碳氧化率 单位.3 材料类型  细分类型  地区         年份  \\\n",
      "0       27.4  tC/TJ  94.0    %   能源  固体燃料  中国       2019   \n",
      "46      27.4  tC/TJ  94.0    %   能源  固体燃料  中国       2022   \n",
      "142      NaN    NaN   NaN  NaN   能源  固体燃料  中国  2001-2011   \n",
      "\n",
      "                         数据来源  \\\n",
      "0    GBT-51366-2019-建筑碳排放计算标准   \n",
      "46                 建筑工程碳排放量计算   \n",
      "142  中国产品全生命周期温室气体排放系数库, CPCD   \n",
      "\n",
      "                                                数据来源地址  \\\n",
      "0    http://zjj.panzhihua.gov.cn/ztzl/szsnjnljxc/js...   \n",
      "46              ISBN 978-7-111-70965-7 2022年9月第1版第1次印刷   \n",
      "142                            http://lca.cityghg.com/   \n",
      "\n",
      "                                         Data Provider Link  \n",
      "0                                                  NaN  NaN  \n",
      "46                                                 NaN  NaN  \n",
      "142  [1]夏德建,任玉珑,史乐峰.中国煤电能源链的生命周期碳排放系数计量[J].统计研究,201...  NaN  \n",
      "+--------------------+----------------------+-------------------+--------------+-----------+------------------+----------+------------+----------+------------+------------+--------+-----------+--------------------------------------------+----------------------------------------------------------------+-----------------------------------------------------------------------------------------------+--------+\n",
      "| 材料               |   单位热值碳排放因子 | 单位              |   碳排放因子 | 单位.1    |   单位热值含碳量 | 单位.2   |   碳氧化率 | 单位.3   | 材料类型   | 细分类型   | 地区   | 年份      | 数据来源                                   | 数据来源地址                                                   | Data Provider                                                                                 |   Link |\n",
      "+====================+======================+===================+==============+===========+==================+==========+============+==========+============+============+========+===========+============================================+================================================================+===============================================================================================+========+\n",
      "| 无烟煤             |                94.44 | t CO2/TJ          |       nan    | nan       |             27.4 | tC/TJ    |         94 | %        | 能源       | 固体燃料   | 中国   | 2019      | GBT-51366-2019-建筑碳排放计算标准          | http://zjj.panzhihua.gov.cn/ztzl/szsnjnljxc/jsbz/4207183.shtml | nan                                                                                           |    nan |\n",
      "+--------------------+----------------------+-------------------+--------------+-----------+------------------+----------+------------+----------+------------+------------+--------+-----------+--------------------------------------------+----------------------------------------------------------------+-----------------------------------------------------------------------------------------------+--------+\n",
      "| 无烟煤(Anthracite) |                94.88 | t CO2/TJ          |         2.38 | kg CO2/kg |             27.4 | tC/TJ    |         94 | %        | 能源       | 固体燃料   | 中国   | 2022      | 建筑工程碳排放量计算                       | ISBN 978-7-111-70965-7 2022年9月第1版第1次印刷                 | nan                                                                                           |    nan |\n",
      "+--------------------+----------------------+-------------------+--------------+-----------+------------------+----------+------------+----------+------------+------------+--------+-----------+--------------------------------------------+----------------------------------------------------------------+-----------------------------------------------------------------------------------------------+--------+\n",
      "| 无烟煤             |                 1.92 | 吨二氧化碳当量/吨 |       nan    | nan       |            nan   | nan      |        nan | nan      | 能源       | 固体燃料   | 中国   | 2001-2011 | 中国产品全生命周期温室气体排放系数库, CPCD | http://lca.cityghg.com/                                        | [1]夏德建,任玉珑,史乐峰.中国煤电能源链的生命周期碳排放系数计量[J].统计研究,2010,27(08):82-89; |    nan |\n",
      "| （anthracite）     |                      | (t CO2-eq/ t)     |              |           |                  |          |            |          |            |            |        |           |                                            |                                                                | [2]国家发展改革委办公厅.《中国煤炭生产企业温室气体排放核算方法与报告指南》.2014               |        |\n",
      "+--------------------+----------------------+-------------------+--------------+-----------+------------------+----------+------------+----------+------------+------------+--------+-----------+--------------------------------------------+----------------------------------------------------------------+-----------------------------------------------------------------------------------------------+--------+\n",
      "\n",
      "----------------------------------------------------------------------\n"
     ]
    }
   ],
   "source": [
    "print('-' * 70)\n",
    "print()\n",
    "\n",
    "# Initialize a list to store the DataFrame indices where the material name is found\n",
    "matching_dfs = []\n",
    "index = 0\n",
    "\n",
    "# Iterate over each DataFrame\n",
    "for i, df in enumerate(dfs):\n",
    "    # Filter the DataFrame based on the material name\n",
    "    filtered_df = df[df['材料'].str.contains(material_name, case=False, regex=False, na=False)]\n",
    "    \n",
    "    # Check if the filtered DataFrame is not empty\n",
    "    if not filtered_df.empty:\n",
    "        \n",
    "        # Store the index of the DataFrame where the material name is found\n",
    "        matching_dfs.append(i)\n",
    "       \n",
    "        classification = classify(i+1)\n",
    "        ## print(classify(i+1))\n",
    "        \n",
    "        print(f\"'{material_name}' 隶属于\" + classification + \"类型\")\n",
    "        print()\n",
    "        print('-' * 70)\n",
    "        \n",
    "        # Display the filtered DataFrame for the current iteration\n",
    "        num = len(filtered_df)\n",
    "        print()\n",
    "        print(\"为您搜查到 \" + str(num) + \" 种结果：\")\n",
    "        print()\n",
    "        print(filtered_df)\n",
    "        \n",
    "        \n",
    "        # Convert filtered DataFrame to a list of lists\n",
    "        data = filtered_df.values.tolist()\n",
    "\n",
    "        # Get column headers\n",
    "        headers = filtered_df.columns.tolist()\n",
    "\n",
    "        # Print table\n",
    "        print(tabulate(data, headers=headers, tablefmt=\"grid\"))\n",
    "        \n",
    "\n",
    "# Check if the material name is found in any DataFrame\n",
    "if len(matching_dfs) <= 0:\n",
    "    print(f\"未能查询到 '{material_name}' 该材料名称\")\n",
    "\n",
    "print()\n",
    "print('-' * 70)\n"
   ]
  },
  {
   "cell_type": "code",
   "execution_count": null,
   "id": "9401b7d7",
   "metadata": {},
   "outputs": [],
   "source": []
  },
  {
   "cell_type": "code",
   "execution_count": null,
   "id": "ff5c4433",
   "metadata": {},
   "outputs": [],
   "source": []
  },
  {
   "cell_type": "code",
   "execution_count": null,
   "id": "60ef73fc",
   "metadata": {},
   "outputs": [],
   "source": []
  },
  {
   "cell_type": "code",
   "execution_count": null,
   "id": "f07be713",
   "metadata": {},
   "outputs": [],
   "source": []
  },
  {
   "cell_type": "code",
   "execution_count": null,
   "id": "9adc4439",
   "metadata": {},
   "outputs": [],
   "source": []
  },
  {
   "cell_type": "code",
   "execution_count": null,
   "id": "2a4033ae",
   "metadata": {},
   "outputs": [],
   "source": []
  },
  {
   "cell_type": "code",
   "execution_count": null,
   "id": "3bf58dab",
   "metadata": {},
   "outputs": [],
   "source": []
  },
  {
   "cell_type": "code",
   "execution_count": null,
   "id": "f42d8179",
   "metadata": {},
   "outputs": [],
   "source": []
  },
  {
   "cell_type": "code",
   "execution_count": null,
   "id": "5c49782d",
   "metadata": {},
   "outputs": [],
   "source": []
  }
 ],
 "metadata": {
  "kernelspec": {
   "display_name": "Python 3 (ipykernel)",
   "language": "python",
   "name": "python3"
  },
  "language_info": {
   "codemirror_mode": {
    "name": "ipython",
    "version": 3
   },
   "file_extension": ".py",
   "mimetype": "text/x-python",
   "name": "python",
   "nbconvert_exporter": "python",
   "pygments_lexer": "ipython3",
   "version": "3.9.13"
  }
 },
 "nbformat": 4,
 "nbformat_minor": 5
}
